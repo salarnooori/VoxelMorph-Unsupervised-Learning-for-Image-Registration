{
  "cells": [
    {
      "cell_type": "markdown",
      "id": "89cb66be-4a2d-4d26-bd71-d34a79ad0525",
      "metadata": {
        "id": "89cb66be-4a2d-4d26-bd71-d34a79ad0525"
      },
      "source": [
        "# VoxelMorph"
      ]
    },
    {
      "cell_type": "markdown",
      "id": "deaa37cb-ecdf-4b3d-a7dd-38d5c321b82c",
      "metadata": {
        "id": "deaa37cb-ecdf-4b3d-a7dd-38d5c321b82c"
      },
      "source": [
        "## Proposed Method Description\n",
        "$\\href {https://arxiv.org/pdf/1809.05231}{Voxelmorph}$ framework, which is designed for image registration using deep learning. Image registration is the process of aligning different images into a common coordinate system. Voxelmorph leverages unsupervised learning to register images by minimizing a loss function that reflects spatial correspondence between images.\n",
        "\n",
        "Voxelmorph employs a convolutional neural network to predict a deformation field that maps one image to another. The deformation field represents how the pixels in one image should be displaced to align with another image."
      ]
    },
    {
      "cell_type": "code",
      "execution_count": 1,
      "id": "81cb114f-1085-4cbc-848c-ccc554dccb36",
      "metadata": {
        "colab": {
          "base_uri": "https://localhost:8080/"
        },
        "id": "81cb114f-1085-4cbc-848c-ccc554dccb36",
        "outputId": "d4e77bdc-cfbd-4f80-86ff-b9ff71c688dc"
      },
      "outputs": [
        {
          "name": "stdout",
          "output_type": "stream",
          "text": [
            "Collecting monai\n",
            "  Downloading monai-1.4.0-py3-none-any.whl.metadata (11 kB)\n",
            "Requirement already satisfied: numpy<2.0,>=1.24 in /usr/local/lib/python3.10/dist-packages (from monai) (1.26.4)\n",
            "Requirement already satisfied: torch>=1.9 in /usr/local/lib/python3.10/dist-packages (from monai) (2.5.1+cu121)\n",
            "Requirement already satisfied: filelock in /usr/local/lib/python3.10/dist-packages (from torch>=1.9->monai) (3.16.1)\n",
            "Requirement already satisfied: typing-extensions>=4.8.0 in /usr/local/lib/python3.10/dist-packages (from torch>=1.9->monai) (4.12.2)\n",
            "Requirement already satisfied: networkx in /usr/local/lib/python3.10/dist-packages (from torch>=1.9->monai) (3.4.2)\n",
            "Requirement already satisfied: jinja2 in /usr/local/lib/python3.10/dist-packages (from torch>=1.9->monai) (3.1.4)\n",
            "Requirement already satisfied: fsspec in /usr/local/lib/python3.10/dist-packages (from torch>=1.9->monai) (2024.10.0)\n",
            "Requirement already satisfied: sympy==1.13.1 in /usr/local/lib/python3.10/dist-packages (from torch>=1.9->monai) (1.13.1)\n",
            "Requirement already satisfied: mpmath<1.4,>=1.1.0 in /usr/local/lib/python3.10/dist-packages (from sympy==1.13.1->torch>=1.9->monai) (1.3.0)\n",
            "Requirement already satisfied: MarkupSafe>=2.0 in /usr/local/lib/python3.10/dist-packages (from jinja2->torch>=1.9->monai) (3.0.2)\n",
            "Downloading monai-1.4.0-py3-none-any.whl (1.5 MB)\n",
            "\u001b[2K   \u001b[90m━━━━━━━━━━━━━━━━━━━━━━━━━━━━━━━━━━━━━━━━\u001b[0m \u001b[32m1.5/1.5 MB\u001b[0m \u001b[31m33.8 MB/s\u001b[0m eta \u001b[36m0:00:00\u001b[0m\n",
            "\u001b[?25hInstalling collected packages: monai\n",
            "Successfully installed monai-1.4.0\n"
          ]
        }
      ],
      "source": [
        "import numpy as np\n",
        "import matplotlib.pyplot as plt\n",
        "import skimage.io as io\n",
        "import os\n",
        "import time\n",
        "from tqdm import tqdm\n",
        "import torch\n",
        "import torchvision\n",
        "import torch.nn as nn\n",
        "import torch.nn.functional as F\n",
        "import torch.optim as optim\n",
        "from torch.utils.data import Dataset, DataLoader\n",
        "from torch.distributions.normal import Normal\n",
        "from torch.autograd import Variable\n",
        "from skimage.transform import resize\n",
        "from sklearn.model_selection import train_test_split\n",
        "import math\n",
        "\n",
        "!pip install monai\n",
        "from monai.utils import set_determinism, first\n",
        "from monai.transforms import (\n",
        "    EnsureChannelFirstD,\n",
        "    Compose,\n",
        "    LoadImageD,\n",
        "    RandRotateD,\n",
        "    RandZoomD,\n",
        "    ScaleIntensityRanged,\n",
        ")\n",
        "from monai.data import DataLoader, Dataset, CacheDataset\n",
        "from monai.config import print_config, USE_COMPILED\n",
        "from monai.apps import MedNISTDataset\n",
        "import tempfile\n"
      ]
    },
    {
      "cell_type": "markdown",
      "id": "da965f73-f363-47fc-9d71-14dada4e7195",
      "metadata": {
        "id": "da965f73-f363-47fc-9d71-14dada4e7195"
      },
      "source": [
        "# DATALOADER"
      ]
    },
    {
      "cell_type": "code",
      "execution_count": 2,
      "id": "0e8ac951-8264-45ad-9742-933f6f66397e",
      "metadata": {
        "colab": {
          "base_uri": "https://localhost:8080/",
          "height": 1000
        },
        "id": "0e8ac951-8264-45ad-9742-933f6f66397e",
        "outputId": "3b3c76e8-6609-4d77-e0f1-b362ff3cd143"
      },
      "outputs": [
        {
          "name": "stdout",
          "output_type": "stream",
          "text": [
            "MONAI version: 1.4.0\n",
            "Numpy version: 1.26.4\n",
            "Pytorch version: 2.5.1+cu121\n",
            "MONAI flags: HAS_EXT = False, USE_COMPILED = False, USE_META_DICT = False\n",
            "MONAI rev id: 46a5272196a6c2590ca2589029eed8e4d56ff008\n",
            "MONAI __file__: /usr/local/lib/python3.10/dist-packages/monai/__init__.py\n",
            "\n",
            "Optional dependencies:\n",
            "Pytorch Ignite version: NOT INSTALLED or UNKNOWN VERSION.\n",
            "ITK version: NOT INSTALLED or UNKNOWN VERSION.\n",
            "Nibabel version: 5.3.2\n",
            "scikit-image version: 0.25.0\n",
            "scipy version: 1.13.1\n",
            "Pillow version: 11.0.0\n",
            "Tensorboard version: 2.17.1\n",
            "gdown version: 5.2.0\n",
            "TorchVision version: 0.20.1+cu121\n",
            "tqdm version: 4.67.1\n",
            "lmdb version: NOT INSTALLED or UNKNOWN VERSION.\n",
            "psutil version: 5.9.5\n",
            "pandas version: 2.2.2\n",
            "einops version: 0.8.0\n",
            "transformers version: 4.47.1\n",
            "mlflow version: NOT INSTALLED or UNKNOWN VERSION.\n",
            "pynrrd version: NOT INSTALLED or UNKNOWN VERSION.\n",
            "clearml version: NOT INSTALLED or UNKNOWN VERSION.\n",
            "\n",
            "For details about installing the optional dependencies, please visit:\n",
            "    https://docs.monai.io/en/latest/installation.html#installing-the-recommended-dependencies\n",
            "\n",
            "/tmp/tmpzf5osmja\n"
          ]
        },
        {
          "name": "stderr",
          "output_type": "stream",
          "text": [
            "MedNIST.tar.gz: 59.0MB [00:02, 28.1MB/s]                            "
          ]
        },
        {
          "name": "stdout",
          "output_type": "stream",
          "text": [
            "2024-12-21 07:26:32,081 - INFO - Downloaded: /tmp/tmpzf5osmja/MedNIST.tar.gz\n"
          ]
        },
        {
          "name": "stderr",
          "output_type": "stream",
          "text": [
            "\n"
          ]
        },
        {
          "name": "stdout",
          "output_type": "stream",
          "text": [
            "2024-12-21 07:26:32,466 - INFO - Verified 'MedNIST.tar.gz', md5: 0bc7306e7427e00ad1c5526a6677552d.\n",
            "2024-12-21 07:26:32,472 - INFO - Writing into directory: /tmp/tmpzf5osmja.\n"
          ]
        },
        {
          "name": "stderr",
          "output_type": "stream",
          "text": [
            "Loading dataset: 100%|██████████| 47164/47164 [00:00<00:00, 94621.18it/s]\n"
          ]
        },
        {
          "name": "stdout",
          "output_type": "stream",
          "text": [
            "\n",
            " first training items:  [{'fixed_hand': '/tmp/tmpzf5osmja/MedNIST/Hand/003836.jpeg', 'moving_hand': '/tmp/tmpzf5osmja/MedNIST/Hand/003836.jpeg'}, {'fixed_hand': '/tmp/tmpzf5osmja/MedNIST/Hand/001613.jpeg', 'moving_hand': '/tmp/tmpzf5osmja/MedNIST/Hand/001613.jpeg'}, {'fixed_hand': '/tmp/tmpzf5osmja/MedNIST/Hand/008693.jpeg', 'moving_hand': '/tmp/tmpzf5osmja/MedNIST/Hand/008693.jpeg'}]\n",
            "moving_image shape: torch.Size([64, 64])\n",
            "fixed_image shape: torch.Size([64, 64])\n"
          ]
        },
        {
          "data": {
            "image/png": "[encoded data removed]",
            "text/plain": [
              "<Figure size 1200x600 with 2 Axes>"
            ]
          },
          "metadata": {},
          "output_type": "display_data"
        },
        {
          "name": "stderr",
          "output_type": "stream",
          "text": [
            "Loading dataset: 100%|██████████| 1000/1000 [00:03<00:00, 294.22it/s]\n",
            "Loading dataset: 100%|██████████| 500/500 [00:01<00:00, 335.69it/s]\n"
          ]
        }
      ],
      "source": [
        "print_config()\n",
        "set_determinism(42)\n",
        "directory = os.environ.get(\"MONAI_DATA_DIRECTORY\")\n",
        "if directory is not None:\n",
        "    os.makedirs(directory, exist_ok=True)\n",
        "root_dir = tempfile.mkdtemp() if directory is None else directory\n",
        "print(root_dir)\n",
        "\n",
        "\n",
        "train_data = MedNISTDataset(root_dir=root_dir, section=\"training\", download=True, transform=None)\n",
        "training_datadict = [\n",
        "    {\"fixed_hand\": item[\"image\"], \"moving_hand\": item[\"image\"]}\n",
        "    for item in train_data.data\n",
        "    if item[\"label\"] == 4  # label 4 is for xray hands\n",
        "]\n",
        "print(\"\\n first training items: \", training_datadict[:3])\n",
        "\n",
        "train_transforms = Compose(\n",
        "    [\n",
        "        LoadImageD(keys=[\"fixed_hand\", \"moving_hand\"]),\n",
        "        EnsureChannelFirstD(keys=[\"fixed_hand\", \"moving_hand\"]),\n",
        "        ScaleIntensityRanged(\n",
        "            keys=[\"fixed_hand\", \"moving_hand\"],\n",
        "            a_min=0.0,\n",
        "            a_max=255.0,\n",
        "            b_min=0.0,\n",
        "            b_max=1.0,\n",
        "            clip=True,\n",
        "        ),\n",
        "        RandRotateD(keys=[\"moving_hand\"], range_x=np.pi / 4, prob=1.0, keep_size=True, mode=\"bicubic\"),\n",
        "        RandZoomD(keys=[\"moving_hand\"], min_zoom=0.9, max_zoom=1.1, prob=1.0, mode=\"bicubic\", align_corners=False),\n",
        "    ]\n",
        ")\n",
        "\n",
        "check_ds = Dataset(data=training_datadict, transform=train_transforms)\n",
        "check_loader = DataLoader(check_ds, batch_size=1, shuffle=True)\n",
        "check_data = first(check_loader)\n",
        "fixed_image = check_data[\"fixed_hand\"][0][0]\n",
        "moving_image = check_data[\"moving_hand\"][0][0]\n",
        "\n",
        "print(f\"moving_image shape: {moving_image.shape}\")\n",
        "print(f\"fixed_image shape: {fixed_image.shape}\")\n",
        "\n",
        "plt.figure(\"check\", (12, 6))\n",
        "plt.subplot(1, 2, 1)\n",
        "plt.title(\"moving_image\")\n",
        "plt.imshow(moving_image, cmap=\"gray\")\n",
        "plt.subplot(1, 2, 2)\n",
        "plt.title(\"fixed_image\")\n",
        "plt.imshow(fixed_image, cmap=\"gray\")\n",
        "\n",
        "plt.show()\n",
        "\n",
        "\n",
        "train_ds = CacheDataset(data=training_datadict[:1000], transform=train_transforms, cache_rate=1.0, num_workers=4)\n",
        "train_loader = DataLoader(train_ds, batch_size=16, shuffle=True, num_workers=2)\n",
        "\n",
        "val_ds = CacheDataset(data=training_datadict[2000:2500], transform=train_transforms, cache_rate=1.0, num_workers=0)\n",
        "val_loader = DataLoader(val_ds, batch_size=16, num_workers=0)"
      ]
    },
    {
      "cell_type": "markdown",
      "id": "a92fba56-aa7a-4f8b-b9b3-8c24f286b1d5",
      "metadata": {
        "id": "a92fba56-aa7a-4f8b-b9b3-8c24f286b1d5"
      },
      "source": [
        "# U-NET"
      ]
    },
    {
      "cell_type": "markdown",
      "id": "80735572-b77d-4b9d-b87c-ef77c1a420e5",
      "metadata": {
        "id": "80735572-b77d-4b9d-b87c-ef77c1a420e5"
      },
      "source": [
        "`Encoder-Decoder Network`: The model takes two images as input: a moving image and a fixed image. It outputs the deformation field that aligns the moving image to the fixed one.\n",
        "\n",
        "<p align=\"left\">\n",
        "<img src=\"https://drive.usercontent.google.com/u/0/uc?id=14S29efIg5RZsZ7b0Mm9ucWLKUagVn0N5&export=download\" alt=\"\" width=\"500\"/>\n",
        "</p>\n",
        "\n",
        "The Voxelmorph model consists of a convolutional encoder-decoder architecture:\n",
        "- Encoder: Extracts features from the input images using convolutions and pooling layers.\n",
        "- Decoder: Upsamples the encoded features to generate the deformation field that aligns the images.\n",
        "- Flow Field: The final output is a deformation field.\n",
        "Input/Output:"
      ]
    },
    {
      "cell_type": "code",
      "execution_count": 3,
      "id": "61ce945c-d9c2-4212-990e-65336ad56e9e",
      "metadata": {
        "id": "61ce945c-d9c2-4212-990e-65336ad56e9e"
      },
      "outputs": [],
      "source": [
        "class Unet(nn.Module):\n",
        "    \"\"\"\n",
        "    A unet architecture. Layer features can be specified directly as a list of encoder and decoder\n",
        "    features or as a single integer along with a number of unet levels. The default network features\n",
        "    per layer (when no options are specified) are:\n",
        "\n",
        "        encoder: [16, 32, 32, 32]\n",
        "        decoder: [32, 32, 32, 32, 32, 16, 16]\n",
        "    \"\"\"\n",
        "\n",
        "    def __init__(self,\n",
        "                 inshape=None,\n",
        "                 infeats=None,\n",
        "                 nb_features=None,\n",
        "                 nb_levels=None,\n",
        "                 max_pool=2,\n",
        "                 feat_mult=1,\n",
        "                 nb_conv_per_level=1,\n",
        "                 half_res=False):\n",
        "        \"\"\"\n",
        "        Parameters:\n",
        "            inshape: Input shape. e.g. (1, 64, 64)\n",
        "            infeats: Number of input features.\n",
        "            nb_features: Unet convolutional features. Can be specified via a list of lists with\n",
        "                the form [[encoder feats], [decoder feats]], or as a single integer.\n",
        "                If None (default), the unet features are defined by the default config described in\n",
        "                the class documentation.\n",
        "            nb_levels: Number of levels in unet. Only used when nb_features is an integer.\n",
        "                Default is None.\n",
        "            feat_mult: Per-level feature multiplier. Only used when nb_features is an integer.\n",
        "                Default is 1.\n",
        "            nb_conv_per_level: Number of convolutions per unet level. Default is 1.\n",
        "            half_res: Skip the last decoder upsampling. Default is False.\n",
        "        \"\"\"\n",
        "\n",
        "        super().__init__()\n",
        "\n",
        "        # ensure correct dimensionality\n",
        "        ndims = 2\n",
        "\n",
        "        # cache some parameters\n",
        "        self.half_res = half_res\n",
        "\n",
        "        # default encoder and decoder layer features if nothing provided\n",
        "        if nb_features is None:\n",
        "            nb_features = default_unet_features()\n",
        "\n",
        "        # build feature list automatically\n",
        "        if isinstance(nb_features, int):\n",
        "            if nb_levels is None:\n",
        "                raise ValueError('must provide unet nb_levels if nb_features is an integer')\n",
        "            feats = np.round(nb_features * feat_mult ** np.arange(nb_levels)).astype(int)\n",
        "            nb_features = [\n",
        "                np.repeat(feats[:-1], nb_conv_per_level),\n",
        "                np.repeat(np.flip(feats), nb_conv_per_level)\n",
        "            ]\n",
        "        elif nb_levels is not None:\n",
        "            raise ValueError('cannot use nb_levels if nb_features is not an integer')\n",
        "\n",
        "        # extract any surplus (full resolution) decoder convolutions\n",
        "        enc_nf, dec_nf = nb_features\n",
        "        nb_dec_convs = len(enc_nf)\n",
        "        final_convs = dec_nf[nb_dec_convs:]\n",
        "        dec_nf = dec_nf[:nb_dec_convs]\n",
        "        self.nb_levels = int(nb_dec_convs / nb_conv_per_level) + 1\n",
        "\n",
        "        if isinstance(max_pool, int):\n",
        "            max_pool = [max_pool] * self.nb_levels\n",
        "\n",
        "        # cache downsampling / upsampling operations\n",
        "        MaxPooling = getattr(nn, 'MaxPool%dd' % ndims)\n",
        "        self.pooling = [MaxPooling(s) for s in max_pool]\n",
        "        self.upsampling = [nn.Upsample(scale_factor=s, mode='nearest') for s in max_pool]\n",
        "\n",
        "        # configure encoder (down-sampling path)\n",
        "        prev_nf = infeats\n",
        "        encoder_nfs = [prev_nf]\n",
        "        self.encoder = nn.ModuleList()\n",
        "        for level in range(self.nb_levels - 1):\n",
        "            convs = nn.ModuleList()\n",
        "            for conv in range(nb_conv_per_level):\n",
        "                nf = enc_nf[level * nb_conv_per_level + conv]\n",
        "                convs.append(ConvBlock(ndims, prev_nf, nf))\n",
        "                prev_nf = nf\n",
        "            self.encoder.append(convs)\n",
        "            encoder_nfs.append(prev_nf)\n",
        "\n",
        "        # configure decoder (up-sampling path)\n",
        "        encoder_nfs = np.flip(encoder_nfs)\n",
        "        self.decoder = nn.ModuleList()\n",
        "        for level in range(self.nb_levels - 1):\n",
        "            convs = nn.ModuleList()\n",
        "            for conv in range(nb_conv_per_level):\n",
        "                nf = dec_nf[level * nb_conv_per_level + conv]\n",
        "                convs.append(ConvBlock(ndims, prev_nf, nf))\n",
        "                prev_nf = nf\n",
        "            self.decoder.append(convs)\n",
        "            if not half_res or level < (self.nb_levels - 2):\n",
        "                prev_nf += encoder_nfs[level]\n",
        "\n",
        "        # now we take care of any remaining convolutions\n",
        "        self.remaining = nn.ModuleList()\n",
        "        for num, nf in enumerate(final_convs):\n",
        "            self.remaining.append(ConvBlock(ndims, prev_nf, nf))\n",
        "            prev_nf = nf\n",
        "\n",
        "        # cache final number of features\n",
        "        self.final_nf = prev_nf\n",
        "\n",
        "    def forward(self, x):\n",
        "\n",
        "        # encoder forward pass\n",
        "        x_history = [x]\n",
        "        for level, convs in enumerate(self.encoder):\n",
        "            for conv in convs:\n",
        "                x = conv(x)\n",
        "            x_history.append(x)\n",
        "            x = self.pooling[level](x)\n",
        "\n",
        "        # decoder forward pass with upsampling and concatenation\n",
        "        for level, convs in enumerate(self.decoder):\n",
        "            for conv in convs:\n",
        "                x = conv(x)\n",
        "            if not self.half_res or level < (self.nb_levels - 2):\n",
        "                x = self.upsampling[level](x)\n",
        "                x = torch.cat([x, x_history.pop()], dim=1)\n",
        "\n",
        "        # remaining convs at full resolution\n",
        "        for conv in self.remaining:\n",
        "            x = conv(x)\n",
        "\n",
        "        return x\n",
        "\n",
        "\n",
        "class VxmDense(nn.Module):\n",
        "    \"\"\"\n",
        "    VoxelMorph network for (unsupervised) nonlinear registration between two images.\n",
        "    \"\"\"\n",
        "\n",
        "    def __init__(self,\n",
        "                 inshape,\n",
        "                 nb_unet_features=None,\n",
        "                 nb_unet_levels=None,\n",
        "                 unet_feat_mult=1,\n",
        "                 nb_unet_conv_per_level=1,\n",
        "                 int_steps=7,\n",
        "                 int_downsize=2,\n",
        "                 use_probs=False,\n",
        "                 src_feats=1,\n",
        "                 trg_feats=1,\n",
        "                 unet_half_res=False):\n",
        "        \"\"\"\n",
        "        Parameters:\n",
        "            inshape: Input shape. e.g. (192, 192, 192)\n",
        "            nb_unet_features: Unet convolutional features. Can be specified via a list of lists with\n",
        "                the form [[encoder feats], [decoder feats]], or as a single integer.\n",
        "                If None (default), the unet features are defined by the default config described in\n",
        "                the unet class documentation.\n",
        "            nb_unet_levels: Number of levels in unet. Only used when nb_features is an integer.\n",
        "                Default is None.\n",
        "            unet_feat_mult: Per-level feature multiplier. Only used when nb_features is an integer.\n",
        "                Default is 1.\n",
        "            nb_unet_conv_per_level: Number of convolutions per unet level. Default is 1.\n",
        "            int_steps: Number of flow integration steps. The warp is non-diffeomorphic when this\n",
        "                value is 0.\n",
        "            int_downsize: Integer specifying the flow downsample factor for vector integration.\n",
        "                The flow field is not downsampled when this value is 1.\n",
        "            use_probs: Use probabilities in flow field. Default is False.\n",
        "            src_feats: Number of source image features.\n",
        "            trg_feats: Number of target image features.\n",
        "            unet_half_res: Skip the last unet decoder upsampling. Requires that int_downsize=2.\n",
        "                Default is False.\n",
        "        \"\"\"\n",
        "        super().__init__()\n",
        "\n",
        "        # internal flag indicating whether to return flow or integrated warp during inference\n",
        "        self.training = True\n",
        "\n",
        "        # ensure correct dimensionality\n",
        "        ndims = len(inshape)\n",
        "        assert ndims in [1, 2, 3], 'ndims should be one of 1, 2, or 3. found: %d' % ndims\n",
        "\n",
        "        # configure core unet model\n",
        "        self.unet_model = Unet(\n",
        "            inshape,\n",
        "            infeats=(src_feats + trg_feats),\n",
        "            nb_features=nb_unet_features,\n",
        "            nb_levels=nb_unet_levels,\n",
        "            feat_mult=unet_feat_mult,\n",
        "            nb_conv_per_level=nb_unet_conv_per_level,\n",
        "            half_res=unet_half_res,\n",
        "        )\n",
        "\n",
        "        # configure unet to flow field layer\n",
        "        Conv = getattr(nn, 'Conv%dd' % ndims)\n",
        "        self.flow = Conv(self.unet_model.final_nf, ndims, kernel_size=3, padding=1)\n",
        "\n",
        "        # init flow layer with small weights and bias\n",
        "        self.flow.weight = nn.Parameter(Normal(0, 1e-5).sample(self.flow.weight.shape))\n",
        "        self.flow.bias = nn.Parameter(torch.zeros(self.flow.bias.shape))\n",
        "\n",
        "        # probabilities are not supported in pytorch\n",
        "        if use_probs:\n",
        "            raise NotImplementedError(\n",
        "                'Flow variance has not been implemented in pytorch - set use_probs to False')\n",
        "\n",
        "        # configure optional resize layers (downsize)\n",
        "        if not unet_half_res and int_steps > 0 and int_downsize > 1:\n",
        "            self.resize = ResizeTransform(int_downsize, ndims)\n",
        "        else:\n",
        "            self.resize = None\n",
        "\n",
        "        # resize to full res\n",
        "        if int_steps > 0 and int_downsize > 1:\n",
        "            self.fullsize = ResizeTransform(1 / int_downsize, ndims)\n",
        "        else:\n",
        "            self.fullsize = None\n",
        "\n",
        "\n",
        "        # configure optional integration layer for diffeomorphic warp\n",
        "        down_shape = [int(dim / int_downsize) for dim in inshape]\n",
        "        self.integrate = VecInt(down_shape, int_steps) if int_steps > 0 else None\n",
        "\n",
        "        # configure transformer\n",
        "        self.transformer = SpatialTransformer(inshape)\n",
        "\n",
        "    def forward(self, source, target, registration=False):\n",
        "        '''\n",
        "        Parameters:\n",
        "            source: Source image tensor.\n",
        "            target: Target image tensor.\n",
        "            registration: Return transformed image and flow. Default is False.\n",
        "        '''\n",
        "\n",
        "        # concatenate inputs and propagate unet\n",
        "        x = torch.cat([source, target], dim=1)\n",
        "        x = self.unet_model(x)\n",
        "\n",
        "        # transform into flow field\n",
        "        flow_field = self.flow(x)\n",
        "\n",
        "        # resize flow for integration\n",
        "        pos_flow = flow_field\n",
        "        if self.resize:\n",
        "            pos_flow = self.resize(pos_flow)\n",
        "\n",
        "        preint_flow = pos_flow\n",
        "\n",
        "        # integrate to produce diffeomorphic warp\n",
        "        if self.integrate:\n",
        "            pos_flow = self.integrate(pos_flow)\n",
        "\n",
        "            # resize to final resolution\n",
        "            if self.fullsize:\n",
        "                pos_flow = self.fullsize(pos_flow)\n",
        "\n",
        "        # warp image with flow field\n",
        "        y_source = self.transformer(source, pos_flow)\n",
        "\n",
        "        # return non-integrated flow field if training\n",
        "        if not registration:\n",
        "            return  y_source, preint_flow\n",
        "        else:\n",
        "            return y_source, pos_flow\n",
        "\n",
        "\n",
        "class ConvBlock(nn.Module):\n",
        "    \"\"\"\n",
        "    Specific convolutional block followed by leakyrelu for unet.\n",
        "    \"\"\"\n",
        "\n",
        "    def __init__(self, ndims, in_channels, out_channels, stride=1):\n",
        "        super().__init__()\n",
        "\n",
        "        Conv = getattr(nn, 'Conv%dd' % ndims)\n",
        "        self.main = Conv(in_channels, out_channels, 3, stride, 1)\n",
        "        self.activation = nn.LeakyReLU(0.2)\n",
        "\n",
        "    def forward(self, x):\n",
        "        out = self.main(x)\n",
        "        out = self.activation(out)\n",
        "        return out\n",
        "\n",
        "import torch\n",
        "import torch.nn as nn\n",
        "import torch.nn.functional as nnf\n",
        "\n",
        "\n",
        "class SpatialTransformer(nn.Module):\n",
        "    \"\"\"\n",
        "    N-D Spatial Transformer\n",
        "    \"\"\"\n",
        "\n",
        "    def __init__(self, size, mode='bilinear'):\n",
        "        super().__init__()\n",
        "\n",
        "        self.mode = mode\n",
        "\n",
        "        # create sampling grid\n",
        "        vectors = [torch.arange(0, s) for s in size]\n",
        "        grids = torch.meshgrid(vectors)\n",
        "        grid = torch.stack(grids)\n",
        "        grid = torch.unsqueeze(grid, 0)\n",
        "        grid = grid.type(torch.FloatTensor)\n",
        "\n",
        "        # registering the grid as a buffer cleanly moves it to the GPU, but it also\n",
        "        # adds it to the state dict. this is annoying since everything in the state dict\n",
        "        # is included when saving weights to disk, so the model files are way bigger\n",
        "        # than they need to be. so far, there does not appear to be an elegant solution.\n",
        "        # see: https://discuss.pytorch.org/t/how-to-register-buffer-without-polluting-state-dict\n",
        "        self.register_buffer('grid', grid)\n",
        "\n",
        "    def forward(self, src, flow):\n",
        "        # new locations\n",
        "        new_locs = self.grid + flow\n",
        "        shape = flow.shape[2:]\n",
        "\n",
        "        # need to normalize grid values to [-1, 1] for resampler\n",
        "        for i in range(len(shape)):\n",
        "            new_locs[:, i, ...] = 2 * (new_locs[:, i, ...] / (shape[i] - 1) - 0.5)\n",
        "\n",
        "        # move channels dim to last position\n",
        "        # also not sure why, but the channels need to be reversed\n",
        "        if len(shape) == 2:\n",
        "            new_locs = new_locs.permute(0, 2, 3, 1)\n",
        "            new_locs = new_locs[..., [1, 0]]\n",
        "        elif len(shape) == 3:\n",
        "            new_locs = new_locs.permute(0, 2, 3, 4, 1)\n",
        "            new_locs = new_locs[..., [2, 1, 0]]\n",
        "\n",
        "        return nnf.grid_sample(src, new_locs, align_corners=True, mode=self.mode)\n",
        "\n",
        "\n",
        "class VecInt(nn.Module):\n",
        "    \"\"\"\n",
        "    Integrates a vector field via scaling and squaring.\n",
        "    \"\"\"\n",
        "\n",
        "    def __init__(self, inshape, nsteps):\n",
        "        super().__init__()\n",
        "\n",
        "        assert nsteps >= 0, 'nsteps should be >= 0, found: %d' % nsteps\n",
        "        self.nsteps = nsteps\n",
        "        self.scale = 1.0 / (2 ** self.nsteps)\n",
        "        self.transformer = SpatialTransformer(inshape)\n",
        "\n",
        "    def forward(self, vec):\n",
        "        vec = vec * self.scale\n",
        "        for _ in range(self.nsteps):\n",
        "            vec = vec + self.transformer(vec, vec)\n",
        "        return vec\n",
        "\n",
        "\n",
        "class ResizeTransform(nn.Module):\n",
        "    \"\"\"\n",
        "    Resize a transform, which involves resizing the vector field *and* rescaling it.\n",
        "    \"\"\"\n",
        "\n",
        "    def __init__(self, vel_resize, ndims):\n",
        "        super().__init__()\n",
        "        self.factor = 1.0 / vel_resize\n",
        "        self.mode = 'linear'\n",
        "        if ndims == 2:\n",
        "            self.mode = 'bi' + self.mode\n",
        "        elif ndims == 3:\n",
        "            self.mode = 'tri' + self.mode\n",
        "\n",
        "    def forward(self, x):\n",
        "        if self.factor < 1:\n",
        "            # resize first to save memory\n",
        "            x = nnf.interpolate(x, align_corners=True, scale_factor=self.factor, mode=self.mode)\n",
        "            x = self.factor * x\n",
        "\n",
        "        elif self.factor > 1:\n",
        "            # multiply first to save memory\n",
        "            x = self.factor * x\n",
        "            x = nnf.interpolate(x, align_corners=True, scale_factor=self.factor, mode=self.mode)\n",
        "\n",
        "        return x\n"
      ]
    },
    {
      "cell_type": "markdown",
      "id": "b7acf68a-eb4e-4c65-aa77-2e3144bbc524",
      "metadata": {
        "id": "b7acf68a-eb4e-4c65-aa77-2e3144bbc524"
      },
      "source": [
        "# LOSS"
      ]
    },
    {
      "cell_type": "markdown",
      "id": "0747189e-e11d-400f-a9f4-03f0e416a898",
      "metadata": {
        "id": "0747189e-e11d-400f-a9f4-03f0e416a898"
      },
      "source": [
        "The loss function is crucial for training the network and ensures that the predicted deformation aligns the moving image with the fixed image.\n",
        "The Voxelmorph paper defines two components for the loss:\n",
        "### Similarity Loss:\n",
        "`MSE Loss`: This term quantifies how well the aligned images match in terms of pixel intensities.\n",
        "\n",
        "`Cross correlation loss`: This term quantifies how well the aligned images match in terms of pixel intensities.\n",
        "\n",
        "<p align=\"left\">\n",
        "<img src=\"https://drive.usercontent.google.com/u/0/uc?id=1k1Erq2g06KeAA_P5oj807oBxZ2icGSXy&export=download\" alt=\"\" width=\"500\"/>\n",
        "</p>\n",
        "\n",
        "### Smooth Loss\n",
        "`Smoothness Loss (Regularization Loss)`: To prevent unrealistic deformations, the deformation field is regularized to encourage smooth transformations.\n",
        "\n",
        "$\n",
        "L_{\\text{smooth}}(\\mathbf{\\phi}) = \\sum_{p \\in \\Omega} \\|\\nabla \\mathbf{p}\\|^2\n",
        "$\n",
        "\n",
        "This loss penalizes high-frequency deformations, ensuring that the transformation is smooth and continuous.\n",
        "\n",
        "Total Loss: The total loss is a weighted sum of the image matching loss and the smoothness los\n",
        "\n",
        "$L_{total} =  L_{similarity} + \\lambda \\cdot L_{smooth}$\n",
        "\n",
        "where λ is a regularization weight controlling the trade-off between matching the images and enforcing smooth deformation\n",
        "\n",
        "\n",
        "` Dice Score `:\n",
        "\n",
        "<p align=\"left\">\n",
        "<img src=\"https://drive.usercontent.google.com/u/0/uc?id=1Bb_K1GYhFY8b5rmobZ9FwTHpxrMEZFhl&export=download\" alt=\"\" width=\"500\"/>\n",
        "</p>\n"
      ]
    },
    {
      "cell_type": "markdown",
      "id": "38e6a5da-d924-4540-a9d8-a83e7cbe9602",
      "metadata": {
        "id": "38e6a5da-d924-4540-a9d8-a83e7cbe9602"
      },
      "source": [
        "## Implimentation\n",
        "completing each Loss function based on the description on the `VoxelMorph paper`."
      ]
    },
    {
      "cell_type": "code",
      "execution_count": 4,
      "id": "1537fbab-c9f1-46cb-b1ed-b87871d18973",
      "metadata": {
        "id": "1537fbab-c9f1-46cb-b1ed-b87871d18973"
      },
      "outputs": [],
      "source": [
        "def cross_correlation_loss_OR_MSE(y_true, y_pred):\n",
        "    \"\"\"\n",
        "    Calculate the Mean Squared Error (MSE) loss between y_true and y_pred.\n",
        "\n",
        "    Args:\n",
        "        y_true: The ground truth image (fixed image).\n",
        "        y_pred: The predicted image (moved image).\n",
        "\n",
        "    Returns:\n",
        "        The MSE loss.\n",
        "    \"\"\"\n",
        "    diff = y_true - y_pred\n",
        "    return (diff ** 2).mean()\n",
        "\n",
        "def smoothing_loss(y_pred):\n",
        "    \"\"\"\n",
        "    Calculate the smoothing loss (regularization loss) of the deformation field.\n",
        "\n",
        "    Args:\n",
        "        y_pred: The predicted deformation field.\n",
        "\n",
        "    Returns:\n",
        "        The smoothing loss.\n",
        "    \"\"\"\n",
        "    dy = torch.abs(y_pred[:, :, 1:, :] - y_pred[:, :, :-1, :])\n",
        "    dx = torch.abs(y_pred[:, :, :, 1:] - y_pred[:, :, :, :-1])\n",
        "\n",
        "    return (dx ** 2).sum() / dx.numel() + (dy ** 2).sum() / dy.numel()\n",
        "\n",
        "\n",
        "def dice_score(target, pred):\n",
        "    \"\"\"\n",
        "    Calculate the Dice score between the target and predicted segmentation masks.\n",
        "\n",
        "    Args:\n",
        "        target: The ground truth segmentation mask.\n",
        "        pred: The predicted segmentation mask.\n",
        "\n",
        "    Returns:\n",
        "        The Dice score.\n",
        "    \"\"\"\n",
        "    smooth = 1.0\n",
        "\n",
        "    target_flat = target.view(-1)\n",
        "    pred_flat = pred.view(-1)\n",
        "\n",
        "    intersection = (target_flat * pred_flat).sum().item()\n",
        "    union = target_flat.sum().item() + pred_flat.sum().item()\n",
        "\n",
        "    dice = (2.0 * intersection + smooth) / (union + smooth)\n",
        "\n",
        "    return dice"
      ]
    },
    {
      "cell_type": "code",
      "execution_count": 5,
      "id": "010b9a16-7829-4e2c-9f7a-9c3ba0092fb2",
      "metadata": {
        "id": "010b9a16-7829-4e2c-9f7a-9c3ba0092fb2"
      },
      "outputs": [],
      "source": [
        "class VoxelLoss(nn.Module):\n",
        "  def __init__(self):\n",
        "    super(VoxelLoss, self).__init__()\n",
        "\n",
        "  def forward(self, true, pred, dff):\n",
        "    cor = cross_correlation_loss_OR_MSE(true, pred)\n",
        "    smooth = smoothing_loss(dff)\n",
        "    return   cor + 0.001 * smooth\n",
        "\n",
        "criterion = VoxelLoss()"
      ]
    },
    {
      "cell_type": "markdown",
      "id": "8f66c183-ec27-42b2-9702-b719a0f0a30b",
      "metadata": {
        "id": "8f66c183-ec27-42b2-9702-b719a0f0a30b"
      },
      "source": [
        "# TRAIN"
      ]
    },
    {
      "cell_type": "code",
      "execution_count": 6,
      "id": "04168e7d-e378-45b2-9d7d-49ecf086d000",
      "metadata": {
        "colab": {
          "base_uri": "https://localhost:8080/"
        },
        "id": "04168e7d-e378-45b2-9d7d-49ecf086d000",
        "outputId": "4d0d4f5b-9fff-4bcf-d21a-db1c1d105749"
      },
      "outputs": [
        {
          "name": "stderr",
          "output_type": "stream",
          "text": [
            "/usr/local/lib/python3.10/dist-packages/torch/functional.py:534: UserWarning: torch.meshgrid: in an upcoming release, it will be required to pass the indexing argument. (Triggered internally at ../aten/src/ATen/native/TensorShape.cpp:3595.)\n",
            "  return _VF.meshgrid(tensors, **kwargs)  # type: ignore[attr-defined]\n"
          ]
        }
      ],
      "source": [
        "inshape=[64,64]\n",
        "enc_nf =  [16, 32, 32, 32]\n",
        "dec_nf = [32, 32, 32, 32, 32, 16, 16]\n",
        "\n",
        "voxelmorph = VxmDense(\n",
        "        inshape=inshape,\n",
        "        nb_unet_features=[enc_nf, dec_nf],\n",
        "    )\n",
        "\n",
        "device = torch.device(\"cuda:0\" if torch.cuda.is_available() else \"cpu\")\n",
        "optimizer = optim.Adam(voxelmorph.parameters(), lr=1e-5)\n",
        "voxelmorph = voxelmorph.to(device)\n",
        "\n",
        "num_epochs = 200  # You can change number of epochs"
      ]
    },
    {
      "cell_type": "code",
      "execution_count": 7,
      "id": "29433615-615f-4714-ad65-b3fb6f476253",
      "metadata": {
        "colab": {
          "base_uri": "https://localhost:8080/"
        },
        "id": "29433615-615f-4714-ad65-b3fb6f476253",
        "outputId": "24fba3b3-ec5c-40d1-f152-35e83143f776"
      },
      "outputs": [
        {
          "name": "stderr",
          "output_type": "stream",
          "text": [
            "Epoch 1/200 - Training: 100%|██████████| 63/63 [00:14<00:00,  4.27it/s, loss=0.0931]\n",
            "Epoch 1/200 - Validation: 100%|██████████| 32/32 [00:05<00:00,  6.34it/s, val_loss=0.0716]\n"
          ]
        },
        {
          "name": "stdout",
          "output_type": "stream",
          "text": [
            "Epoch 1/200 - Duration: 0.33 mins - Train Loss: 0.089, Train DICE: 0.478, Val Loss: 0.089, Val DICE: 0.490\n"
          ]
        },
        {
          "name": "stderr",
          "output_type": "stream",
          "text": [
            "Epoch 2/200 - Training: 100%|██████████| 63/63 [00:13<00:00,  4.51it/s, loss=0.104]\n",
            "Epoch 2/200 - Validation: 100%|██████████| 32/32 [00:04<00:00,  6.63it/s, val_loss=0.0699]\n"
          ]
        },
        {
          "name": "stdout",
          "output_type": "stream",
          "text": [
            "Epoch 2/200 - Duration: 0.31 mins - Train Loss: 0.093, Train DICE: 0.470, Val Loss: 0.090, Val DICE: 0.490\n"
          ]
        },
        {
          "name": "stderr",
          "output_type": "stream",
          "text": [
            "Epoch 3/200 - Training: 100%|██████████| 63/63 [00:17<00:00,  3.52it/s, loss=0.11]\n",
            "Epoch 3/200 - Validation: 100%|██████████| 32/32 [00:05<00:00,  6.27it/s, val_loss=0.073]\n"
          ]
        },
        {
          "name": "stdout",
          "output_type": "stream",
          "text": [
            "Epoch 3/200 - Duration: 0.38 mins - Train Loss: 0.090, Train DICE: 0.475, Val Loss: 0.091, Val DICE: 0.488\n"
          ]
        },
        {
          "name": "stderr",
          "output_type": "stream",
          "text": [
            "Epoch 4/200 - Training: 100%|██████████| 63/63 [00:16<00:00,  3.85it/s, loss=0.0902]\n",
            "Epoch 4/200 - Validation: 100%|██████████| 32/32 [00:04<00:00,  6.45it/s, val_loss=0.0722]\n"
          ]
        },
        {
          "name": "stdout",
          "output_type": "stream",
          "text": [
            "Epoch 4/200 - Duration: 0.36 mins - Train Loss: 0.093, Train DICE: 0.469, Val Loss: 0.092, Val DICE: 0.483\n"
          ]
        },
        {
          "name": "stderr",
          "output_type": "stream",
          "text": [
            "Epoch 5/200 - Training: 100%|██████████| 63/63 [00:15<00:00,  4.10it/s, loss=0.101]\n",
            "Epoch 5/200 - Validation: 100%|██████████| 32/32 [00:05<00:00,  5.58it/s, val_loss=0.0707]\n"
          ]
        },
        {
          "name": "stdout",
          "output_type": "stream",
          "text": [
            "Epoch 5/200 - Duration: 0.35 mins - Train Loss: 0.090, Train DICE: 0.472, Val Loss: 0.088, Val DICE: 0.488\n"
          ]
        },
        {
          "name": "stderr",
          "output_type": "stream",
          "text": [
            "Epoch 6/200 - Training: 100%|██████████| 63/63 [00:14<00:00,  4.47it/s, loss=0.0663]\n",
            "Epoch 6/200 - Validation: 100%|██████████| 32/32 [00:07<00:00,  4.42it/s, val_loss=0.0736]\n"
          ]
        },
        {
          "name": "stdout",
          "output_type": "stream",
          "text": [
            "Epoch 6/200 - Duration: 0.36 mins - Train Loss: 0.088, Train DICE: 0.474, Val Loss: 0.092, Val DICE: 0.482\n"
          ]
        },
        {
          "name": "stderr",
          "output_type": "stream",
          "text": [
            "Epoch 7/200 - Training: 100%|██████████| 63/63 [00:13<00:00,  4.67it/s, loss=0.0803]\n",
            "Epoch 7/200 - Validation: 100%|██████████| 32/32 [00:05<00:00,  5.62it/s, val_loss=0.0724]\n"
          ]
        },
        {
          "name": "stdout",
          "output_type": "stream",
          "text": [
            "Epoch 7/200 - Duration: 0.32 mins - Train Loss: 0.090, Train DICE: 0.470, Val Loss: 0.090, Val DICE: 0.484\n"
          ]
        },
        {
          "name": "stderr",
          "output_type": "stream",
          "text": [
            "Epoch 8/200 - Training: 100%|██████████| 63/63 [00:14<00:00,  4.23it/s, loss=0.107]\n",
            "Epoch 8/200 - Validation: 100%|██████████| 32/32 [00:04<00:00,  6.70it/s, val_loss=0.072]\n"
          ]
        },
        {
          "name": "stdout",
          "output_type": "stream",
          "text": [
            "Epoch 8/200 - Duration: 0.33 mins - Train Loss: 0.088, Train DICE: 0.472, Val Loss: 0.090, Val DICE: 0.485\n"
          ]
        },
        {
          "name": "stderr",
          "output_type": "stream",
          "text": [
            "Epoch 9/200 - Training: 100%|██████████| 63/63 [00:15<00:00,  4.11it/s, loss=0.113]\n",
            "Epoch 9/200 - Validation: 100%|██████████| 32/32 [00:05<00:00,  6.32it/s, val_loss=0.0713]\n"
          ]
        },
        {
          "name": "stdout",
          "output_type": "stream",
          "text": [
            "Epoch 9/200 - Duration: 0.34 mins - Train Loss: 0.091, Train DICE: 0.467, Val Loss: 0.091, Val DICE: 0.482\n"
          ]
        },
        {
          "name": "stderr",
          "output_type": "stream",
          "text": [
            "Epoch 10/200 - Training: 100%|██████████| 63/63 [00:18<00:00,  3.39it/s, loss=0.0824]\n",
            "Epoch 10/200 - Validation: 100%|██████████| 32/32 [00:06<00:00,  4.73it/s, val_loss=0.0708]\n"
          ]
        },
        {
          "name": "stdout",
          "output_type": "stream",
          "text": [
            "Epoch 10/200 - Duration: 0.42 mins - Train Loss: 0.087, Train DICE: 0.474, Val Loss: 0.089, Val DICE: 0.486\n"
          ]
        },
        {
          "name": "stderr",
          "output_type": "stream",
          "text": [
            "Epoch 11/200 - Training: 100%|██████████| 63/63 [00:12<00:00,  5.14it/s, loss=0.107]\n",
            "Epoch 11/200 - Validation: 100%|██████████| 32/32 [00:06<00:00,  5.24it/s, val_loss=0.0693]\n"
          ]
        },
        {
          "name": "stdout",
          "output_type": "stream",
          "text": [
            "Epoch 11/200 - Duration: 0.31 mins - Train Loss: 0.090, Train DICE: 0.469, Val Loss: 0.087, Val DICE: 0.489\n"
          ]
        },
        {
          "name": "stderr",
          "output_type": "stream",
          "text": [
            "Epoch 12/200 - Training: 100%|██████████| 63/63 [00:15<00:00,  4.18it/s, loss=0.0901]\n",
            "Epoch 12/200 - Validation: 100%|██████████| 32/32 [00:04<00:00,  6.61it/s, val_loss=0.0652]\n"
          ]
        },
        {
          "name": "stdout",
          "output_type": "stream",
          "text": [
            "Epoch 12/200 - Duration: 0.33 mins - Train Loss: 0.089, Train DICE: 0.470, Val Loss: 0.084, Val DICE: 0.494\n"
          ]
        },
        {
          "name": "stderr",
          "output_type": "stream",
          "text": [
            "Epoch 13/200 - Training: 100%|██████████| 63/63 [00:15<00:00,  4.14it/s, loss=0.0827]\n",
            "Epoch 13/200 - Validation: 100%|██████████| 32/32 [00:04<00:00,  6.69it/s, val_loss=0.0678]\n"
          ]
        },
        {
          "name": "stdout",
          "output_type": "stream",
          "text": [
            "Epoch 13/200 - Duration: 0.33 mins - Train Loss: 0.088, Train DICE: 0.472, Val Loss: 0.087, Val DICE: 0.489\n"
          ]
        },
        {
          "name": "stderr",
          "output_type": "stream",
          "text": [
            "Epoch 14/200 - Training: 100%|██████████| 63/63 [00:14<00:00,  4.24it/s, loss=0.0951]\n",
            "Epoch 14/200 - Validation: 100%|██████████| 32/32 [00:04<00:00,  6.63it/s, val_loss=0.0683]\n"
          ]
        },
        {
          "name": "stdout",
          "output_type": "stream",
          "text": [
            "Epoch 14/200 - Duration: 0.33 mins - Train Loss: 0.088, Train DICE: 0.473, Val Loss: 0.085, Val DICE: 0.491\n"
          ]
        },
        {
          "name": "stderr",
          "output_type": "stream",
          "text": [
            "Epoch 15/200 - Training: 100%|██████████| 63/63 [00:14<00:00,  4.33it/s, loss=0.0839]\n",
            "Epoch 15/200 - Validation: 100%|██████████| 32/32 [00:04<00:00,  6.75it/s, val_loss=0.0702]\n"
          ]
        },
        {
          "name": "stdout",
          "output_type": "stream",
          "text": [
            "Epoch 15/200 - Duration: 0.32 mins - Train Loss: 0.088, Train DICE: 0.472, Val Loss: 0.090, Val DICE: 0.483\n"
          ]
        },
        {
          "name": "stderr",
          "output_type": "stream",
          "text": [
            "Epoch 16/200 - Training: 100%|██████████| 63/63 [00:15<00:00,  3.97it/s, loss=0.0822]\n",
            "Epoch 16/200 - Validation: 100%|██████████| 32/32 [00:06<00:00,  5.16it/s, val_loss=0.0716]\n"
          ]
        },
        {
          "name": "stdout",
          "output_type": "stream",
          "text": [
            "Epoch 16/200 - Duration: 0.37 mins - Train Loss: 0.090, Train DICE: 0.468, Val Loss: 0.090, Val DICE: 0.484\n"
          ]
        },
        {
          "name": "stderr",
          "output_type": "stream",
          "text": [
            "Epoch 17/200 - Training: 100%|██████████| 63/63 [00:12<00:00,  5.08it/s, loss=0.0923]\n",
            "Epoch 17/200 - Validation: 100%|██████████| 32/32 [00:06<00:00,  4.74it/s, val_loss=0.0716]\n"
          ]
        },
        {
          "name": "stdout",
          "output_type": "stream",
          "text": [
            "Epoch 17/200 - Duration: 0.32 mins - Train Loss: 0.091, Train DICE: 0.467, Val Loss: 0.089, Val DICE: 0.483\n"
          ]
        },
        {
          "name": "stderr",
          "output_type": "stream",
          "text": [
            "Epoch 18/200 - Training: 100%|██████████| 63/63 [00:19<00:00,  3.30it/s, loss=0.0789]\n",
            "Epoch 18/200 - Validation: 100%|██████████| 32/32 [00:04<00:00,  6.53it/s, val_loss=0.0715]\n"
          ]
        },
        {
          "name": "stdout",
          "output_type": "stream",
          "text": [
            "Epoch 18/200 - Duration: 0.40 mins - Train Loss: 0.088, Train DICE: 0.471, Val Loss: 0.089, Val DICE: 0.483\n"
          ]
        },
        {
          "name": "stderr",
          "output_type": "stream",
          "text": [
            "Epoch 19/200 - Training: 100%|██████████| 63/63 [00:15<00:00,  4.17it/s, loss=0.104]\n",
            "Epoch 19/200 - Validation: 100%|██████████| 32/32 [00:04<00:00,  6.53it/s, val_loss=0.0678]\n"
          ]
        },
        {
          "name": "stdout",
          "output_type": "stream",
          "text": [
            "Epoch 19/200 - Duration: 0.33 mins - Train Loss: 0.089, Train DICE: 0.470, Val Loss: 0.087, Val DICE: 0.487\n"
          ]
        },
        {
          "name": "stderr",
          "output_type": "stream",
          "text": [
            "Epoch 20/200 - Training: 100%|██████████| 63/63 [00:15<00:00,  4.18it/s, loss=0.0548]\n",
            "Epoch 20/200 - Validation: 100%|██████████| 32/32 [00:05<00:00,  5.51it/s, val_loss=0.0668]\n"
          ]
        },
        {
          "name": "stdout",
          "output_type": "stream",
          "text": [
            "Epoch 20/200 - Duration: 0.35 mins - Train Loss: 0.088, Train DICE: 0.470, Val Loss: 0.086, Val DICE: 0.489\n"
          ]
        },
        {
          "name": "stderr",
          "output_type": "stream",
          "text": [
            "Epoch 21/200 - Training: 100%|██████████| 63/63 [00:14<00:00,  4.37it/s, loss=0.0703]\n",
            "Epoch 21/200 - Validation: 100%|██████████| 32/32 [00:06<00:00,  4.75it/s, val_loss=0.0689]\n"
          ]
        },
        {
          "name": "stdout",
          "output_type": "stream",
          "text": [
            "Epoch 21/200 - Duration: 0.35 mins - Train Loss: 0.089, Train DICE: 0.469, Val Loss: 0.086, Val DICE: 0.488\n"
          ]
        },
        {
          "name": "stderr",
          "output_type": "stream",
          "text": [
            "Epoch 22/200 - Training: 100%|██████████| 63/63 [00:12<00:00,  5.18it/s, loss=0.0918]\n",
            "Epoch 22/200 - Validation: 100%|██████████| 32/32 [00:06<00:00,  5.04it/s, val_loss=0.0719]\n"
          ]
        },
        {
          "name": "stdout",
          "output_type": "stream",
          "text": [
            "Epoch 22/200 - Duration: 0.31 mins - Train Loss: 0.087, Train DICE: 0.472, Val Loss: 0.090, Val DICE: 0.482\n"
          ]
        },
        {
          "name": "stderr",
          "output_type": "stream",
          "text": [
            "Epoch 23/200 - Training: 100%|██████████| 63/63 [00:15<00:00,  4.18it/s, loss=0.0945]\n",
            "Epoch 23/200 - Validation: 100%|██████████| 32/32 [00:04<00:00,  6.55it/s, val_loss=0.0663]\n"
          ]
        },
        {
          "name": "stdout",
          "output_type": "stream",
          "text": [
            "Epoch 23/200 - Duration: 0.33 mins - Train Loss: 0.089, Train DICE: 0.468, Val Loss: 0.085, Val DICE: 0.489\n"
          ]
        },
        {
          "name": "stderr",
          "output_type": "stream",
          "text": [
            "Epoch 24/200 - Training: 100%|██████████| 63/63 [00:15<00:00,  4.02it/s, loss=0.0822]\n",
            "Epoch 24/200 - Validation: 100%|██████████| 32/32 [00:04<00:00,  6.50it/s, val_loss=0.07]\n"
          ]
        },
        {
          "name": "stdout",
          "output_type": "stream",
          "text": [
            "Epoch 24/200 - Duration: 0.34 mins - Train Loss: 0.086, Train DICE: 0.472, Val Loss: 0.088, Val DICE: 0.484\n"
          ]
        },
        {
          "name": "stderr",
          "output_type": "stream",
          "text": [
            "Epoch 25/200 - Training: 100%|██████████| 63/63 [00:17<00:00,  3.51it/s, loss=0.0958]\n",
            "Epoch 25/200 - Validation: 100%|██████████| 32/32 [00:04<00:00,  6.52it/s, val_loss=0.0658]\n"
          ]
        },
        {
          "name": "stdout",
          "output_type": "stream",
          "text": [
            "Epoch 25/200 - Duration: 0.38 mins - Train Loss: 0.086, Train DICE: 0.469, Val Loss: 0.084, Val DICE: 0.485\n"
          ]
        },
        {
          "name": "stderr",
          "output_type": "stream",
          "text": [
            "Epoch 26/200 - Training: 100%|██████████| 63/63 [00:15<00:00,  4.17it/s, loss=0.062]\n",
            "Epoch 26/200 - Validation: 100%|██████████| 32/32 [00:06<00:00,  5.31it/s, val_loss=0.0615]\n"
          ]
        },
        {
          "name": "stdout",
          "output_type": "stream",
          "text": [
            "Epoch 26/200 - Duration: 0.35 mins - Train Loss: 0.082, Train DICE: 0.468, Val Loss: 0.077, Val DICE: 0.490\n"
          ]
        },
        {
          "name": "stderr",
          "output_type": "stream",
          "text": [
            "Epoch 27/200 - Training: 100%|██████████| 63/63 [00:13<00:00,  4.57it/s, loss=0.0716]\n",
            "Epoch 27/200 - Validation: 100%|██████████| 32/32 [00:07<00:00,  4.36it/s, val_loss=0.0563]\n"
          ]
        },
        {
          "name": "stdout",
          "output_type": "stream",
          "text": [
            "Epoch 27/200 - Duration: 0.35 mins - Train Loss: 0.073, Train DICE: 0.485, Val Loss: 0.072, Val DICE: 0.503\n"
          ]
        },
        {
          "name": "stderr",
          "output_type": "stream",
          "text": [
            "Epoch 28/200 - Training: 100%|██████████| 63/63 [00:12<00:00,  4.89it/s, loss=0.0848]\n",
            "Epoch 28/200 - Validation: 100%|██████████| 32/32 [00:05<00:00,  5.67it/s, val_loss=0.0529]\n"
          ]
        },
        {
          "name": "stdout",
          "output_type": "stream",
          "text": [
            "Epoch 28/200 - Duration: 0.31 mins - Train Loss: 0.069, Train DICE: 0.493, Val Loss: 0.066, Val DICE: 0.510\n"
          ]
        },
        {
          "name": "stderr",
          "output_type": "stream",
          "text": [
            "Epoch 29/200 - Training: 100%|██████████| 63/63 [00:15<00:00,  4.19it/s, loss=0.0648]\n",
            "Epoch 29/200 - Validation: 100%|██████████| 32/32 [00:04<00:00,  6.54it/s, val_loss=0.0475]\n"
          ]
        },
        {
          "name": "stdout",
          "output_type": "stream",
          "text": [
            "Epoch 29/200 - Duration: 0.33 mins - Train Loss: 0.065, Train DICE: 0.500, Val Loss: 0.061, Val DICE: 0.521\n"
          ]
        },
        {
          "name": "stderr",
          "output_type": "stream",
          "text": [
            "Epoch 30/200 - Training: 100%|██████████| 63/63 [00:15<00:00,  4.13it/s, loss=0.0622]\n",
            "Epoch 30/200 - Validation: 100%|██████████| 32/32 [00:04<00:00,  6.53it/s, val_loss=0.0487]\n"
          ]
        },
        {
          "name": "stdout",
          "output_type": "stream",
          "text": [
            "Epoch 30/200 - Duration: 0.34 mins - Train Loss: 0.062, Train DICE: 0.506, Val Loss: 0.062, Val DICE: 0.517\n"
          ]
        },
        {
          "name": "stderr",
          "output_type": "stream",
          "text": [
            "Epoch 31/200 - Training: 100%|██████████| 63/63 [00:15<00:00,  4.19it/s, loss=0.0503]\n",
            "Epoch 31/200 - Validation: 100%|██████████| 32/32 [00:04<00:00,  6.55it/s, val_loss=0.0464]\n"
          ]
        },
        {
          "name": "stdout",
          "output_type": "stream",
          "text": [
            "Epoch 31/200 - Duration: 0.33 mins - Train Loss: 0.062, Train DICE: 0.504, Val Loss: 0.059, Val DICE: 0.521\n"
          ]
        },
        {
          "name": "stderr",
          "output_type": "stream",
          "text": [
            "Epoch 32/200 - Training: 100%|██████████| 63/63 [00:14<00:00,  4.24it/s, loss=0.0564]\n",
            "Epoch 32/200 - Validation: 100%|██████████| 32/32 [00:06<00:00,  5.15it/s, val_loss=0.0452]\n"
          ]
        },
        {
          "name": "stdout",
          "output_type": "stream",
          "text": [
            "Epoch 32/200 - Duration: 0.35 mins - Train Loss: 0.059, Train DICE: 0.509, Val Loss: 0.058, Val DICE: 0.523\n"
          ]
        },
        {
          "name": "stderr",
          "output_type": "stream",
          "text": [
            "Epoch 33/200 - Training: 100%|██████████| 63/63 [00:19<00:00,  3.18it/s, loss=0.0515]\n",
            "Epoch 33/200 - Validation: 100%|██████████| 32/32 [00:04<00:00,  6.43it/s, val_loss=0.0436]\n"
          ]
        },
        {
          "name": "stdout",
          "output_type": "stream",
          "text": [
            "Epoch 33/200 - Duration: 0.41 mins - Train Loss: 0.058, Train DICE: 0.511, Val Loss: 0.056, Val DICE: 0.526\n"
          ]
        },
        {
          "name": "stderr",
          "output_type": "stream",
          "text": [
            "Epoch 34/200 - Training: 100%|██████████| 63/63 [00:15<00:00,  4.09it/s, loss=0.0507]\n",
            "Epoch 34/200 - Validation: 100%|██████████| 32/32 [00:04<00:00,  6.50it/s, val_loss=0.0419]\n"
          ]
        },
        {
          "name": "stdout",
          "output_type": "stream",
          "text": [
            "Epoch 34/200 - Duration: 0.34 mins - Train Loss: 0.054, Train DICE: 0.517, Val Loss: 0.054, Val DICE: 0.531\n"
          ]
        },
        {
          "name": "stderr",
          "output_type": "stream",
          "text": [
            "Epoch 35/200 - Training: 100%|██████████| 63/63 [00:14<00:00,  4.24it/s, loss=0.0556]\n",
            "Epoch 35/200 - Validation: 100%|██████████| 32/32 [00:04<00:00,  6.48it/s, val_loss=0.0398]\n"
          ]
        },
        {
          "name": "stdout",
          "output_type": "stream",
          "text": [
            "Epoch 35/200 - Duration: 0.33 mins - Train Loss: 0.053, Train DICE: 0.518, Val Loss: 0.051, Val DICE: 0.535\n"
          ]
        },
        {
          "name": "stderr",
          "output_type": "stream",
          "text": [
            "Epoch 36/200 - Training: 100%|██████████| 63/63 [00:15<00:00,  4.07it/s, loss=0.0519]\n",
            "Epoch 36/200 - Validation: 100%|██████████| 32/32 [00:04<00:00,  6.46it/s, val_loss=0.0404]\n"
          ]
        },
        {
          "name": "stdout",
          "output_type": "stream",
          "text": [
            "Epoch 36/200 - Duration: 0.34 mins - Train Loss: 0.051, Train DICE: 0.521, Val Loss: 0.050, Val DICE: 0.535\n"
          ]
        },
        {
          "name": "stderr",
          "output_type": "stream",
          "text": [
            "Epoch 37/200 - Training: 100%|██████████| 63/63 [00:14<00:00,  4.22it/s, loss=0.037]\n",
            "Epoch 37/200 - Validation: 100%|██████████| 32/32 [00:06<00:00,  4.65it/s, val_loss=0.0393]\n"
          ]
        },
        {
          "name": "stdout",
          "output_type": "stream",
          "text": [
            "Epoch 37/200 - Duration: 0.36 mins - Train Loss: 0.050, Train DICE: 0.526, Val Loss: 0.049, Val DICE: 0.539\n"
          ]
        },
        {
          "name": "stderr",
          "output_type": "stream",
          "text": [
            "Epoch 38/200 - Training: 100%|██████████| 63/63 [00:12<00:00,  5.07it/s, loss=0.0478]\n",
            "Epoch 38/200 - Validation: 100%|██████████| 32/32 [00:05<00:00,  5.45it/s, val_loss=0.0386]\n"
          ]
        },
        {
          "name": "stdout",
          "output_type": "stream",
          "text": [
            "Epoch 38/200 - Duration: 0.31 mins - Train Loss: 0.048, Train DICE: 0.530, Val Loss: 0.048, Val DICE: 0.543\n"
          ]
        },
        {
          "name": "stderr",
          "output_type": "stream",
          "text": [
            "Epoch 39/200 - Training: 100%|██████████| 63/63 [00:14<00:00,  4.35it/s, loss=0.032]\n",
            "Epoch 39/200 - Validation: 100%|██████████| 32/32 [00:04<00:00,  6.68it/s, val_loss=0.038]\n"
          ]
        },
        {
          "name": "stdout",
          "output_type": "stream",
          "text": [
            "Epoch 39/200 - Duration: 0.32 mins - Train Loss: 0.047, Train DICE: 0.533, Val Loss: 0.048, Val DICE: 0.545\n"
          ]
        },
        {
          "name": "stderr",
          "output_type": "stream",
          "text": [
            "Epoch 40/200 - Training: 100%|██████████| 63/63 [00:15<00:00,  4.02it/s, loss=0.0425]\n",
            "Epoch 40/200 - Validation: 100%|██████████| 32/32 [00:06<00:00,  4.69it/s, val_loss=0.0361]\n"
          ]
        },
        {
          "name": "stdout",
          "output_type": "stream",
          "text": [
            "Epoch 40/200 - Duration: 0.38 mins - Train Loss: 0.045, Train DICE: 0.539, Val Loss: 0.045, Val DICE: 0.550\n"
          ]
        },
        {
          "name": "stderr",
          "output_type": "stream",
          "text": [
            "Epoch 41/200 - Training: 100%|██████████| 63/63 [00:13<00:00,  4.68it/s, loss=0.0312]\n",
            "Epoch 41/200 - Validation: 100%|██████████| 32/32 [00:06<00:00,  4.65it/s, val_loss=0.0351]\n"
          ]
        },
        {
          "name": "stdout",
          "output_type": "stream",
          "text": [
            "Epoch 41/200 - Duration: 0.34 mins - Train Loss: 0.045, Train DICE: 0.538, Val Loss: 0.044, Val DICE: 0.554\n"
          ]
        },
        {
          "name": "stderr",
          "output_type": "stream",
          "text": [
            "Epoch 42/200 - Training: 100%|██████████| 63/63 [00:12<00:00,  4.91it/s, loss=0.0521]\n",
            "Epoch 42/200 - Validation: 100%|██████████| 32/32 [00:05<00:00,  6.39it/s, val_loss=0.0349]\n"
          ]
        },
        {
          "name": "stdout",
          "output_type": "stream",
          "text": [
            "Epoch 42/200 - Duration: 0.30 mins - Train Loss: 0.045, Train DICE: 0.540, Val Loss: 0.044, Val DICE: 0.555\n"
          ]
        },
        {
          "name": "stderr",
          "output_type": "stream",
          "text": [
            "Epoch 43/200 - Training: 100%|██████████| 63/63 [00:15<00:00,  4.15it/s, loss=0.0469]\n",
            "Epoch 43/200 - Validation: 100%|██████████| 32/32 [00:04<00:00,  6.67it/s, val_loss=0.0343]\n"
          ]
        },
        {
          "name": "stdout",
          "output_type": "stream",
          "text": [
            "Epoch 43/200 - Duration: 0.33 mins - Train Loss: 0.043, Train DICE: 0.546, Val Loss: 0.044, Val DICE: 0.556\n"
          ]
        },
        {
          "name": "stderr",
          "output_type": "stream",
          "text": [
            "Epoch 44/200 - Training: 100%|██████████| 63/63 [00:14<00:00,  4.45it/s, loss=0.0347]\n",
            "Epoch 44/200 - Validation: 100%|██████████| 32/32 [00:05<00:00,  6.40it/s, val_loss=0.0329]\n"
          ]
        },
        {
          "name": "stdout",
          "output_type": "stream",
          "text": [
            "Epoch 44/200 - Duration: 0.32 mins - Train Loss: 0.043, Train DICE: 0.546, Val Loss: 0.042, Val DICE: 0.560\n"
          ]
        },
        {
          "name": "stderr",
          "output_type": "stream",
          "text": [
            "Epoch 45/200 - Training: 100%|██████████| 63/63 [00:14<00:00,  4.27it/s, loss=0.0379]\n",
            "Epoch 45/200 - Validation: 100%|██████████| 32/32 [00:05<00:00,  5.47it/s, val_loss=0.0335]\n"
          ]
        },
        {
          "name": "stdout",
          "output_type": "stream",
          "text": [
            "Epoch 45/200 - Duration: 0.34 mins - Train Loss: 0.043, Train DICE: 0.546, Val Loss: 0.042, Val DICE: 0.561\n"
          ]
        },
        {
          "name": "stderr",
          "output_type": "stream",
          "text": [
            "Epoch 46/200 - Training: 100%|██████████| 63/63 [00:14<00:00,  4.36it/s, loss=0.0426]\n",
            "Epoch 46/200 - Validation: 100%|██████████| 32/32 [00:07<00:00,  4.28it/s, val_loss=0.0332]\n"
          ]
        },
        {
          "name": "stdout",
          "output_type": "stream",
          "text": [
            "Epoch 46/200 - Duration: 0.37 mins - Train Loss: 0.042, Train DICE: 0.549, Val Loss: 0.041, Val DICE: 0.562\n"
          ]
        },
        {
          "name": "stderr",
          "output_type": "stream",
          "text": [
            "Epoch 47/200 - Training: 100%|██████████| 63/63 [00:14<00:00,  4.46it/s, loss=0.0386]\n",
            "Epoch 47/200 - Validation: 100%|██████████| 32/32 [00:05<00:00,  5.46it/s, val_loss=0.0332]\n"
          ]
        },
        {
          "name": "stdout",
          "output_type": "stream",
          "text": [
            "Epoch 47/200 - Duration: 0.33 mins - Train Loss: 0.041, Train DICE: 0.553, Val Loss: 0.041, Val DICE: 0.563\n"
          ]
        },
        {
          "name": "stderr",
          "output_type": "stream",
          "text": [
            "Epoch 48/200 - Training: 100%|██████████| 63/63 [00:17<00:00,  3.56it/s, loss=0.0363]\n",
            "Epoch 48/200 - Validation: 100%|██████████| 32/32 [00:05<00:00,  5.87it/s, val_loss=0.0321]\n"
          ]
        },
        {
          "name": "stdout",
          "output_type": "stream",
          "text": [
            "Epoch 48/200 - Duration: 0.39 mins - Train Loss: 0.040, Train DICE: 0.555, Val Loss: 0.040, Val DICE: 0.567\n"
          ]
        },
        {
          "name": "stderr",
          "output_type": "stream",
          "text": [
            "Epoch 49/200 - Training: 100%|██████████| 63/63 [00:16<00:00,  3.79it/s, loss=0.0277]\n",
            "Epoch 49/200 - Validation: 100%|██████████| 32/32 [00:05<00:00,  5.93it/s, val_loss=0.0313]\n"
          ]
        },
        {
          "name": "stdout",
          "output_type": "stream",
          "text": [
            "Epoch 49/200 - Duration: 0.37 mins - Train Loss: 0.040, Train DICE: 0.554, Val Loss: 0.039, Val DICE: 0.569\n"
          ]
        },
        {
          "name": "stderr",
          "output_type": "stream",
          "text": [
            "Epoch 50/200 - Training: 100%|██████████| 63/63 [00:16<00:00,  3.79it/s, loss=0.0371]\n",
            "Epoch 50/200 - Validation: 100%|██████████| 32/32 [00:06<00:00,  5.23it/s, val_loss=0.0318]\n"
          ]
        },
        {
          "name": "stdout",
          "output_type": "stream",
          "text": [
            "Epoch 50/200 - Duration: 0.38 mins - Train Loss: 0.040, Train DICE: 0.555, Val Loss: 0.040, Val DICE: 0.567\n"
          ]
        },
        {
          "name": "stderr",
          "output_type": "stream",
          "text": [
            "Epoch 51/200 - Training: 100%|██████████| 63/63 [00:14<00:00,  4.36it/s, loss=0.0375]\n",
            "Epoch 51/200 - Validation: 100%|██████████| 32/32 [00:07<00:00,  4.07it/s, val_loss=0.0321]\n"
          ]
        },
        {
          "name": "stdout",
          "output_type": "stream",
          "text": [
            "Epoch 51/200 - Duration: 0.37 mins - Train Loss: 0.040, Train DICE: 0.557, Val Loss: 0.040, Val DICE: 0.567\n"
          ]
        },
        {
          "name": "stderr",
          "output_type": "stream",
          "text": [
            "Epoch 52/200 - Training: 100%|██████████| 63/63 [00:15<00:00,  4.04it/s, loss=0.0349]\n",
            "Epoch 52/200 - Validation: 100%|██████████| 32/32 [00:05<00:00,  5.85it/s, val_loss=0.0325]\n"
          ]
        },
        {
          "name": "stdout",
          "output_type": "stream",
          "text": [
            "Epoch 52/200 - Duration: 0.35 mins - Train Loss: 0.040, Train DICE: 0.556, Val Loss: 0.041, Val DICE: 0.566\n"
          ]
        },
        {
          "name": "stderr",
          "output_type": "stream",
          "text": [
            "Epoch 53/200 - Training: 100%|██████████| 63/63 [00:16<00:00,  3.92it/s, loss=0.0406]\n",
            "Epoch 53/200 - Validation: 100%|██████████| 32/32 [00:05<00:00,  5.90it/s, val_loss=0.0314]\n"
          ]
        },
        {
          "name": "stdout",
          "output_type": "stream",
          "text": [
            "Epoch 53/200 - Duration: 0.36 mins - Train Loss: 0.039, Train DICE: 0.559, Val Loss: 0.039, Val DICE: 0.569\n"
          ]
        },
        {
          "name": "stderr",
          "output_type": "stream",
          "text": [
            "Epoch 54/200 - Training: 100%|██████████| 63/63 [00:15<00:00,  4.06it/s, loss=0.037]\n",
            "Epoch 54/200 - Validation: 100%|██████████| 32/32 [00:05<00:00,  5.79it/s, val_loss=0.0303]\n"
          ]
        },
        {
          "name": "stdout",
          "output_type": "stream",
          "text": [
            "Epoch 54/200 - Duration: 0.35 mins - Train Loss: 0.039, Train DICE: 0.560, Val Loss: 0.038, Val DICE: 0.572\n"
          ]
        },
        {
          "name": "stderr",
          "output_type": "stream",
          "text": [
            "Epoch 55/200 - Training: 100%|██████████| 63/63 [00:19<00:00,  3.31it/s, loss=0.0461]\n",
            "Epoch 55/200 - Validation: 100%|██████████| 32/32 [00:07<00:00,  4.40it/s, val_loss=0.0309]\n"
          ]
        },
        {
          "name": "stdout",
          "output_type": "stream",
          "text": [
            "Epoch 55/200 - Duration: 0.44 mins - Train Loss: 0.039, Train DICE: 0.560, Val Loss: 0.039, Val DICE: 0.572\n"
          ]
        },
        {
          "name": "stderr",
          "output_type": "stream",
          "text": [
            "Epoch 56/200 - Training: 100%|██████████| 63/63 [00:14<00:00,  4.25it/s, loss=0.0295]\n",
            "Epoch 56/200 - Validation: 100%|██████████| 32/32 [00:05<00:00,  5.82it/s, val_loss=0.0305]\n"
          ]
        },
        {
          "name": "stdout",
          "output_type": "stream",
          "text": [
            "Epoch 56/200 - Duration: 0.34 mins - Train Loss: 0.039, Train DICE: 0.560, Val Loss: 0.038, Val DICE: 0.572\n"
          ]
        },
        {
          "name": "stderr",
          "output_type": "stream",
          "text": [
            "Epoch 57/200 - Training: 100%|██████████| 63/63 [00:15<00:00,  4.07it/s, loss=0.0422]\n",
            "Epoch 57/200 - Validation: 100%|██████████| 32/32 [00:05<00:00,  5.89it/s, val_loss=0.0298]\n"
          ]
        },
        {
          "name": "stdout",
          "output_type": "stream",
          "text": [
            "Epoch 57/200 - Duration: 0.35 mins - Train Loss: 0.038, Train DICE: 0.560, Val Loss: 0.037, Val DICE: 0.573\n"
          ]
        },
        {
          "name": "stderr",
          "output_type": "stream",
          "text": [
            "Epoch 58/200 - Training: 100%|██████████| 63/63 [00:16<00:00,  3.83it/s, loss=0.0312]\n",
            "Epoch 58/200 - Validation: 100%|██████████| 32/32 [00:05<00:00,  5.80it/s, val_loss=0.0305]\n"
          ]
        },
        {
          "name": "stdout",
          "output_type": "stream",
          "text": [
            "Epoch 58/200 - Duration: 0.37 mins - Train Loss: 0.037, Train DICE: 0.563, Val Loss: 0.038, Val DICE: 0.572\n"
          ]
        },
        {
          "name": "stderr",
          "output_type": "stream",
          "text": [
            "Epoch 59/200 - Training: 100%|██████████| 63/63 [00:15<00:00,  4.12it/s, loss=0.0333]\n",
            "Epoch 59/200 - Validation: 100%|██████████| 32/32 [00:07<00:00,  4.19it/s, val_loss=0.0301]\n"
          ]
        },
        {
          "name": "stdout",
          "output_type": "stream",
          "text": [
            "Epoch 59/200 - Duration: 0.38 mins - Train Loss: 0.038, Train DICE: 0.560, Val Loss: 0.039, Val DICE: 0.571\n"
          ]
        },
        {
          "name": "stderr",
          "output_type": "stream",
          "text": [
            "Epoch 60/200 - Training: 100%|██████████| 63/63 [00:14<00:00,  4.28it/s, loss=0.0335]\n",
            "Epoch 60/200 - Validation: 100%|██████████| 32/32 [00:05<00:00,  5.80it/s, val_loss=0.0306]\n"
          ]
        },
        {
          "name": "stdout",
          "output_type": "stream",
          "text": [
            "Epoch 60/200 - Duration: 0.34 mins - Train Loss: 0.038, Train DICE: 0.562, Val Loss: 0.038, Val DICE: 0.573\n"
          ]
        },
        {
          "name": "stderr",
          "output_type": "stream",
          "text": [
            "Epoch 61/200 - Training: 100%|██████████| 63/63 [00:16<00:00,  3.83it/s, loss=0.0223]\n",
            "Epoch 61/200 - Validation: 100%|██████████| 32/32 [00:05<00:00,  6.00it/s, val_loss=0.0303]\n"
          ]
        },
        {
          "name": "stdout",
          "output_type": "stream",
          "text": [
            "Epoch 61/200 - Duration: 0.36 mins - Train Loss: 0.037, Train DICE: 0.564, Val Loss: 0.038, Val DICE: 0.574\n"
          ]
        },
        {
          "name": "stderr",
          "output_type": "stream",
          "text": [
            "Epoch 62/200 - Training: 100%|██████████| 63/63 [00:18<00:00,  3.42it/s, loss=0.0341]\n",
            "Epoch 62/200 - Validation: 100%|██████████| 32/32 [00:06<00:00,  4.85it/s, val_loss=0.03]\n"
          ]
        },
        {
          "name": "stdout",
          "output_type": "stream",
          "text": [
            "Epoch 62/200 - Duration: 0.42 mins - Train Loss: 0.037, Train DICE: 0.564, Val Loss: 0.038, Val DICE: 0.574\n"
          ]
        },
        {
          "name": "stderr",
          "output_type": "stream",
          "text": [
            "Epoch 63/200 - Training: 100%|██████████| 63/63 [00:14<00:00,  4.32it/s, loss=0.0444]\n",
            "Epoch 63/200 - Validation: 100%|██████████| 32/32 [00:07<00:00,  4.33it/s, val_loss=0.0295]\n"
          ]
        },
        {
          "name": "stdout",
          "output_type": "stream",
          "text": [
            "Epoch 63/200 - Duration: 0.37 mins - Train Loss: 0.037, Train DICE: 0.564, Val Loss: 0.038, Val DICE: 0.573\n"
          ]
        },
        {
          "name": "stderr",
          "output_type": "stream",
          "text": [
            "Epoch 64/200 - Training: 100%|██████████| 63/63 [00:16<00:00,  3.90it/s, loss=0.0348]\n",
            "Epoch 64/200 - Validation: 100%|██████████| 32/32 [00:05<00:00,  5.97it/s, val_loss=0.029]\n"
          ]
        },
        {
          "name": "stdout",
          "output_type": "stream",
          "text": [
            "Epoch 64/200 - Duration: 0.36 mins - Train Loss: 0.037, Train DICE: 0.564, Val Loss: 0.036, Val DICE: 0.577\n"
          ]
        },
        {
          "name": "stderr",
          "output_type": "stream",
          "text": [
            "Epoch 65/200 - Training: 100%|██████████| 63/63 [00:16<00:00,  3.83it/s, loss=0.0356]\n",
            "Epoch 65/200 - Validation: 100%|██████████| 32/32 [00:05<00:00,  6.06it/s, val_loss=0.0286]\n"
          ]
        },
        {
          "name": "stdout",
          "output_type": "stream",
          "text": [
            "Epoch 65/200 - Duration: 0.36 mins - Train Loss: 0.037, Train DICE: 0.565, Val Loss: 0.036, Val DICE: 0.578\n"
          ]
        },
        {
          "name": "stderr",
          "output_type": "stream",
          "text": [
            "Epoch 66/200 - Training: 100%|██████████| 63/63 [00:14<00:00,  4.22it/s, loss=0.0414]\n",
            "Epoch 66/200 - Validation: 100%|██████████| 32/32 [00:04<00:00,  6.75it/s, val_loss=0.0292]\n"
          ]
        },
        {
          "name": "stdout",
          "output_type": "stream",
          "text": [
            "Epoch 66/200 - Duration: 0.33 mins - Train Loss: 0.036, Train DICE: 0.565, Val Loss: 0.036, Val DICE: 0.576\n"
          ]
        },
        {
          "name": "stderr",
          "output_type": "stream",
          "text": [
            "Epoch 67/200 - Training: 100%|██████████| 63/63 [00:15<00:00,  4.17it/s, loss=0.0365]\n",
            "Epoch 67/200 - Validation: 100%|██████████| 32/32 [00:05<00:00,  5.83it/s, val_loss=0.0291]\n"
          ]
        },
        {
          "name": "stdout",
          "output_type": "stream",
          "text": [
            "Epoch 67/200 - Duration: 0.34 mins - Train Loss: 0.036, Train DICE: 0.565, Val Loss: 0.036, Val DICE: 0.577\n"
          ]
        },
        {
          "name": "stderr",
          "output_type": "stream",
          "text": [
            "Epoch 68/200 - Training: 100%|██████████| 63/63 [00:14<00:00,  4.43it/s, loss=0.0295]\n",
            "Epoch 68/200 - Validation: 100%|██████████| 32/32 [00:06<00:00,  5.02it/s, val_loss=0.029]\n"
          ]
        },
        {
          "name": "stdout",
          "output_type": "stream",
          "text": [
            "Epoch 68/200 - Duration: 0.34 mins - Train Loss: 0.035, Train DICE: 0.568, Val Loss: 0.036, Val DICE: 0.577\n"
          ]
        },
        {
          "name": "stderr",
          "output_type": "stream",
          "text": [
            "Epoch 69/200 - Training: 100%|██████████| 63/63 [00:11<00:00,  5.34it/s, loss=0.04]\n",
            "Epoch 69/200 - Validation: 100%|██████████| 32/32 [00:08<00:00,  3.82it/s, val_loss=0.029]\n"
          ]
        },
        {
          "name": "stdout",
          "output_type": "stream",
          "text": [
            "Epoch 69/200 - Duration: 0.34 mins - Train Loss: 0.036, Train DICE: 0.566, Val Loss: 0.036, Val DICE: 0.577\n"
          ]
        },
        {
          "name": "stderr",
          "output_type": "stream",
          "text": [
            "Epoch 70/200 - Training: 100%|██████████| 63/63 [00:15<00:00,  4.14it/s, loss=0.0433]\n",
            "Epoch 70/200 - Validation: 100%|██████████| 32/32 [00:04<00:00,  6.91it/s, val_loss=0.0291]\n"
          ]
        },
        {
          "name": "stdout",
          "output_type": "stream",
          "text": [
            "Epoch 70/200 - Duration: 0.33 mins - Train Loss: 0.036, Train DICE: 0.565, Val Loss: 0.036, Val DICE: 0.577\n"
          ]
        },
        {
          "name": "stderr",
          "output_type": "stream",
          "text": [
            "Epoch 71/200 - Training: 100%|██████████| 63/63 [00:14<00:00,  4.32it/s, loss=0.0319]\n",
            "Epoch 71/200 - Validation: 100%|██████████| 32/32 [00:04<00:00,  6.62it/s, val_loss=0.0286]\n"
          ]
        },
        {
          "name": "stdout",
          "output_type": "stream",
          "text": [
            "Epoch 71/200 - Duration: 0.32 mins - Train Loss: 0.035, Train DICE: 0.568, Val Loss: 0.036, Val DICE: 0.578\n"
          ]
        },
        {
          "name": "stderr",
          "output_type": "stream",
          "text": [
            "Epoch 72/200 - Training: 100%|██████████| 63/63 [00:14<00:00,  4.39it/s, loss=0.0324]\n",
            "Epoch 72/200 - Validation: 100%|██████████| 32/32 [00:05<00:00,  6.38it/s, val_loss=0.0288]\n"
          ]
        },
        {
          "name": "stdout",
          "output_type": "stream",
          "text": [
            "Epoch 72/200 - Duration: 0.32 mins - Train Loss: 0.037, Train DICE: 0.565, Val Loss: 0.036, Val DICE: 0.578\n"
          ]
        },
        {
          "name": "stderr",
          "output_type": "stream",
          "text": [
            "Epoch 73/200 - Training: 100%|██████████| 63/63 [00:14<00:00,  4.34it/s, loss=0.0239]\n",
            "Epoch 73/200 - Validation: 100%|██████████| 32/32 [00:06<00:00,  4.86it/s, val_loss=0.0277]\n"
          ]
        },
        {
          "name": "stdout",
          "output_type": "stream",
          "text": [
            "Epoch 73/200 - Duration: 0.35 mins - Train Loss: 0.035, Train DICE: 0.569, Val Loss: 0.035, Val DICE: 0.579\n"
          ]
        },
        {
          "name": "stderr",
          "output_type": "stream",
          "text": [
            "Epoch 74/200 - Training: 100%|██████████| 63/63 [00:12<00:00,  4.98it/s, loss=0.036]\n",
            "Epoch 74/200 - Validation: 100%|██████████| 32/32 [00:06<00:00,  5.05it/s, val_loss=0.028]\n"
          ]
        },
        {
          "name": "stdout",
          "output_type": "stream",
          "text": [
            "Epoch 74/200 - Duration: 0.32 mins - Train Loss: 0.035, Train DICE: 0.567, Val Loss: 0.035, Val DICE: 0.580\n"
          ]
        },
        {
          "name": "stderr",
          "output_type": "stream",
          "text": [
            "Epoch 75/200 - Training: 100%|██████████| 63/63 [00:14<00:00,  4.28it/s, loss=0.0372]\n",
            "Epoch 75/200 - Validation: 100%|██████████| 32/32 [00:04<00:00,  6.41it/s, val_loss=0.0269]\n"
          ]
        },
        {
          "name": "stdout",
          "output_type": "stream",
          "text": [
            "Epoch 75/200 - Duration: 0.33 mins - Train Loss: 0.035, Train DICE: 0.569, Val Loss: 0.034, Val DICE: 0.581\n"
          ]
        },
        {
          "name": "stderr",
          "output_type": "stream",
          "text": [
            "Epoch 76/200 - Training: 100%|██████████| 63/63 [00:15<00:00,  4.12it/s, loss=0.0344]\n",
            "Epoch 76/200 - Validation: 100%|██████████| 32/32 [00:04<00:00,  6.64it/s, val_loss=0.0285]\n"
          ]
        },
        {
          "name": "stdout",
          "output_type": "stream",
          "text": [
            "Epoch 76/200 - Duration: 0.34 mins - Train Loss: 0.035, Train DICE: 0.568, Val Loss: 0.036, Val DICE: 0.579\n"
          ]
        },
        {
          "name": "stderr",
          "output_type": "stream",
          "text": [
            "Epoch 77/200 - Training: 100%|██████████| 63/63 [00:14<00:00,  4.24it/s, loss=0.0401]\n",
            "Epoch 77/200 - Validation: 100%|██████████| 32/32 [00:07<00:00,  4.42it/s, val_loss=0.0287]\n"
          ]
        },
        {
          "name": "stdout",
          "output_type": "stream",
          "text": [
            "Epoch 77/200 - Duration: 0.37 mins - Train Loss: 0.035, Train DICE: 0.569, Val Loss: 0.036, Val DICE: 0.579\n"
          ]
        },
        {
          "name": "stderr",
          "output_type": "stream",
          "text": [
            "Epoch 78/200 - Training: 100%|██████████| 63/63 [00:14<00:00,  4.35it/s, loss=0.0459]\n",
            "Epoch 78/200 - Validation: 100%|██████████| 32/32 [00:06<00:00,  5.13it/s, val_loss=0.0272]\n"
          ]
        },
        {
          "name": "stdout",
          "output_type": "stream",
          "text": [
            "Epoch 78/200 - Duration: 0.35 mins - Train Loss: 0.036, Train DICE: 0.568, Val Loss: 0.035, Val DICE: 0.582\n"
          ]
        },
        {
          "name": "stderr",
          "output_type": "stream",
          "text": [
            "Epoch 79/200 - Training: 100%|██████████| 63/63 [00:12<00:00,  5.17it/s, loss=0.0315]\n",
            "Epoch 79/200 - Validation: 100%|██████████| 32/32 [00:06<00:00,  5.17it/s, val_loss=0.0284]\n"
          ]
        },
        {
          "name": "stdout",
          "output_type": "stream",
          "text": [
            "Epoch 79/200 - Duration: 0.31 mins - Train Loss: 0.034, Train DICE: 0.570, Val Loss: 0.035, Val DICE: 0.579\n"
          ]
        },
        {
          "name": "stderr",
          "output_type": "stream",
          "text": [
            "Epoch 80/200 - Training: 100%|██████████| 63/63 [00:14<00:00,  4.34it/s, loss=0.0308]\n",
            "Epoch 80/200 - Validation: 100%|██████████| 32/32 [00:04<00:00,  6.42it/s, val_loss=0.027]\n"
          ]
        },
        {
          "name": "stdout",
          "output_type": "stream",
          "text": [
            "Epoch 80/200 - Duration: 0.33 mins - Train Loss: 0.034, Train DICE: 0.571, Val Loss: 0.035, Val DICE: 0.581\n"
          ]
        },
        {
          "name": "stderr",
          "output_type": "stream",
          "text": [
            "Epoch 81/200 - Training: 100%|██████████| 63/63 [00:15<00:00,  4.16it/s, loss=0.0374]\n",
            "Epoch 81/200 - Validation: 100%|██████████| 32/32 [00:04<00:00,  6.68it/s, val_loss=0.0279]\n"
          ]
        },
        {
          "name": "stdout",
          "output_type": "stream",
          "text": [
            "Epoch 81/200 - Duration: 0.33 mins - Train Loss: 0.034, Train DICE: 0.571, Val Loss: 0.036, Val DICE: 0.579\n"
          ]
        },
        {
          "name": "stderr",
          "output_type": "stream",
          "text": [
            "Epoch 82/200 - Training: 100%|██████████| 63/63 [00:14<00:00,  4.31it/s, loss=0.0445]\n",
            "Epoch 82/200 - Validation: 100%|██████████| 32/32 [00:04<00:00,  6.61it/s, val_loss=0.0276]\n"
          ]
        },
        {
          "name": "stdout",
          "output_type": "stream",
          "text": [
            "Epoch 82/200 - Duration: 0.32 mins - Train Loss: 0.035, Train DICE: 0.570, Val Loss: 0.034, Val DICE: 0.581\n"
          ]
        },
        {
          "name": "stderr",
          "output_type": "stream",
          "text": [
            "Epoch 83/200 - Training: 100%|██████████| 63/63 [00:14<00:00,  4.24it/s, loss=0.0302]\n",
            "Epoch 83/200 - Validation: 100%|██████████| 32/32 [00:04<00:00,  6.64it/s, val_loss=0.0272]\n"
          ]
        },
        {
          "name": "stdout",
          "output_type": "stream",
          "text": [
            "Epoch 83/200 - Duration: 0.33 mins - Train Loss: 0.034, Train DICE: 0.571, Val Loss: 0.034, Val DICE: 0.583\n"
          ]
        },
        {
          "name": "stderr",
          "output_type": "stream",
          "text": [
            "Epoch 84/200 - Training: 100%|██████████| 63/63 [00:15<00:00,  4.17it/s, loss=0.0316]\n",
            "Epoch 84/200 - Validation: 100%|██████████| 32/32 [00:05<00:00,  5.49it/s, val_loss=0.0269]\n"
          ]
        },
        {
          "name": "stdout",
          "output_type": "stream",
          "text": [
            "Epoch 84/200 - Duration: 0.35 mins - Train Loss: 0.034, Train DICE: 0.573, Val Loss: 0.034, Val DICE: 0.583\n"
          ]
        },
        {
          "name": "stderr",
          "output_type": "stream",
          "text": [
            "Epoch 85/200 - Training: 100%|██████████| 63/63 [00:17<00:00,  3.60it/s, loss=0.0302]\n",
            "Epoch 85/200 - Validation: 100%|██████████| 32/32 [00:06<00:00,  4.84it/s, val_loss=0.028]\n"
          ]
        },
        {
          "name": "stdout",
          "output_type": "stream",
          "text": [
            "Epoch 85/200 - Duration: 0.40 mins - Train Loss: 0.035, Train DICE: 0.571, Val Loss: 0.035, Val DICE: 0.581\n"
          ]
        },
        {
          "name": "stderr",
          "output_type": "stream",
          "text": [
            "Epoch 86/200 - Training: 100%|██████████| 63/63 [00:15<00:00,  4.15it/s, loss=0.0438]\n",
            "Epoch 86/200 - Validation: 100%|██████████| 32/32 [00:04<00:00,  6.54it/s, val_loss=0.0268]\n"
          ]
        },
        {
          "name": "stdout",
          "output_type": "stream",
          "text": [
            "Epoch 86/200 - Duration: 0.33 mins - Train Loss: 0.035, Train DICE: 0.570, Val Loss: 0.034, Val DICE: 0.583\n"
          ]
        },
        {
          "name": "stderr",
          "output_type": "stream",
          "text": [
            "Epoch 87/200 - Training: 100%|██████████| 63/63 [00:15<00:00,  4.18it/s, loss=0.0388]\n",
            "Epoch 87/200 - Validation: 100%|██████████| 32/32 [00:04<00:00,  6.75it/s, val_loss=0.0278]\n"
          ]
        },
        {
          "name": "stdout",
          "output_type": "stream",
          "text": [
            "Epoch 87/200 - Duration: 0.33 mins - Train Loss: 0.034, Train DICE: 0.572, Val Loss: 0.035, Val DICE: 0.582\n"
          ]
        },
        {
          "name": "stderr",
          "output_type": "stream",
          "text": [
            "Epoch 88/200 - Training: 100%|██████████| 63/63 [00:14<00:00,  4.30it/s, loss=0.0355]\n",
            "Epoch 88/200 - Validation: 100%|██████████| 32/32 [00:04<00:00,  6.89it/s, val_loss=0.0278]\n"
          ]
        },
        {
          "name": "stdout",
          "output_type": "stream",
          "text": [
            "Epoch 88/200 - Duration: 0.32 mins - Train Loss: 0.034, Train DICE: 0.571, Val Loss: 0.035, Val DICE: 0.581\n"
          ]
        },
        {
          "name": "stderr",
          "output_type": "stream",
          "text": [
            "Epoch 89/200 - Training: 100%|██████████| 63/63 [00:15<00:00,  4.14it/s, loss=0.0307]\n",
            "Epoch 89/200 - Validation: 100%|██████████| 32/32 [00:04<00:00,  6.51it/s, val_loss=0.0274]\n"
          ]
        },
        {
          "name": "stdout",
          "output_type": "stream",
          "text": [
            "Epoch 89/200 - Duration: 0.34 mins - Train Loss: 0.034, Train DICE: 0.573, Val Loss: 0.034, Val DICE: 0.583\n"
          ]
        },
        {
          "name": "stderr",
          "output_type": "stream",
          "text": [
            "Epoch 90/200 - Training: 100%|██████████| 63/63 [00:14<00:00,  4.22it/s, loss=0.0257]\n",
            "Epoch 90/200 - Validation: 100%|██████████| 32/32 [00:05<00:00,  5.93it/s, val_loss=0.0267]\n"
          ]
        },
        {
          "name": "stdout",
          "output_type": "stream",
          "text": [
            "Epoch 90/200 - Duration: 0.34 mins - Train Loss: 0.034, Train DICE: 0.573, Val Loss: 0.033, Val DICE: 0.585\n"
          ]
        },
        {
          "name": "stderr",
          "output_type": "stream",
          "text": [
            "Epoch 91/200 - Training: 100%|██████████| 63/63 [00:14<00:00,  4.23it/s, loss=0.0361]\n",
            "Epoch 91/200 - Validation: 100%|██████████| 32/32 [00:06<00:00,  4.89it/s, val_loss=0.0267]\n"
          ]
        },
        {
          "name": "stdout",
          "output_type": "stream",
          "text": [
            "Epoch 91/200 - Duration: 0.36 mins - Train Loss: 0.034, Train DICE: 0.572, Val Loss: 0.034, Val DICE: 0.583\n"
          ]
        },
        {
          "name": "stderr",
          "output_type": "stream",
          "text": [
            "Epoch 92/200 - Training: 100%|██████████| 63/63 [00:12<00:00,  5.02it/s, loss=0.0398]\n",
            "Epoch 92/200 - Validation: 100%|██████████| 32/32 [00:06<00:00,  5.13it/s, val_loss=0.0265]\n"
          ]
        },
        {
          "name": "stdout",
          "output_type": "stream",
          "text": [
            "Epoch 92/200 - Duration: 0.31 mins - Train Loss: 0.034, Train DICE: 0.572, Val Loss: 0.033, Val DICE: 0.585\n"
          ]
        },
        {
          "name": "stderr",
          "output_type": "stream",
          "text": [
            "Epoch 93/200 - Training: 100%|██████████| 63/63 [00:16<00:00,  3.80it/s, loss=0.0392]\n",
            "Epoch 93/200 - Validation: 100%|██████████| 32/32 [00:04<00:00,  6.56it/s, val_loss=0.0259]\n"
          ]
        },
        {
          "name": "stdout",
          "output_type": "stream",
          "text": [
            "Epoch 93/200 - Duration: 0.36 mins - Train Loss: 0.034, Train DICE: 0.573, Val Loss: 0.033, Val DICE: 0.585\n"
          ]
        },
        {
          "name": "stderr",
          "output_type": "stream",
          "text": [
            "Epoch 94/200 - Training: 100%|██████████| 63/63 [00:14<00:00,  4.22it/s, loss=0.0353]\n",
            "Epoch 94/200 - Validation: 100%|██████████| 32/32 [00:04<00:00,  6.72it/s, val_loss=0.0272]\n"
          ]
        },
        {
          "name": "stdout",
          "output_type": "stream",
          "text": [
            "Epoch 94/200 - Duration: 0.33 mins - Train Loss: 0.033, Train DICE: 0.575, Val Loss: 0.034, Val DICE: 0.583\n"
          ]
        },
        {
          "name": "stderr",
          "output_type": "stream",
          "text": [
            "Epoch 95/200 - Training: 100%|██████████| 63/63 [00:14<00:00,  4.31it/s, loss=0.027]\n",
            "Epoch 95/200 - Validation: 100%|██████████| 32/32 [00:04<00:00,  6.69it/s, val_loss=0.0274]\n"
          ]
        },
        {
          "name": "stdout",
          "output_type": "stream",
          "text": [
            "Epoch 95/200 - Duration: 0.32 mins - Train Loss: 0.033, Train DICE: 0.574, Val Loss: 0.034, Val DICE: 0.584\n"
          ]
        },
        {
          "name": "stderr",
          "output_type": "stream",
          "text": [
            "Epoch 96/200 - Training: 100%|██████████| 63/63 [00:14<00:00,  4.36it/s, loss=0.0267]\n",
            "Epoch 96/200 - Validation: 100%|██████████| 32/32 [00:06<00:00,  5.31it/s, val_loss=0.0265]\n"
          ]
        },
        {
          "name": "stdout",
          "output_type": "stream",
          "text": [
            "Epoch 96/200 - Duration: 0.34 mins - Train Loss: 0.033, Train DICE: 0.573, Val Loss: 0.033, Val DICE: 0.586\n"
          ]
        },
        {
          "name": "stderr",
          "output_type": "stream",
          "text": [
            "Epoch 97/200 - Training: 100%|██████████| 63/63 [00:14<00:00,  4.24it/s, loss=0.0287]\n",
            "Epoch 97/200 - Validation: 100%|██████████| 32/32 [00:07<00:00,  4.52it/s, val_loss=0.0263]\n"
          ]
        },
        {
          "name": "stdout",
          "output_type": "stream",
          "text": [
            "Epoch 97/200 - Duration: 0.37 mins - Train Loss: 0.034, Train DICE: 0.573, Val Loss: 0.033, Val DICE: 0.586\n"
          ]
        },
        {
          "name": "stderr",
          "output_type": "stream",
          "text": [
            "Epoch 98/200 - Training: 100%|██████████| 63/63 [00:12<00:00,  4.86it/s, loss=0.0414]\n",
            "Epoch 98/200 - Validation: 100%|██████████| 32/32 [00:05<00:00,  6.34it/s, val_loss=0.0266]\n"
          ]
        },
        {
          "name": "stdout",
          "output_type": "stream",
          "text": [
            "Epoch 98/200 - Duration: 0.30 mins - Train Loss: 0.033, Train DICE: 0.576, Val Loss: 0.033, Val DICE: 0.585\n"
          ]
        },
        {
          "name": "stderr",
          "output_type": "stream",
          "text": [
            "Epoch 99/200 - Training: 100%|██████████| 63/63 [00:15<00:00,  4.11it/s, loss=0.036]\n",
            "Epoch 99/200 - Validation: 100%|██████████| 32/32 [00:05<00:00,  6.30it/s, val_loss=0.0255]\n"
          ]
        },
        {
          "name": "stdout",
          "output_type": "stream",
          "text": [
            "Epoch 99/200 - Duration: 0.34 mins - Train Loss: 0.033, Train DICE: 0.575, Val Loss: 0.033, Val DICE: 0.586\n"
          ]
        },
        {
          "name": "stderr",
          "output_type": "stream",
          "text": [
            "Epoch 100/200 - Training: 100%|██████████| 63/63 [00:16<00:00,  3.91it/s, loss=0.0371]\n",
            "Epoch 100/200 - Validation: 100%|██████████| 32/32 [00:05<00:00,  6.17it/s, val_loss=0.0257]\n"
          ]
        },
        {
          "name": "stdout",
          "output_type": "stream",
          "text": [
            "Epoch 100/200 - Duration: 0.35 mins - Train Loss: 0.033, Train DICE: 0.575, Val Loss: 0.033, Val DICE: 0.586\n"
          ]
        },
        {
          "name": "stderr",
          "output_type": "stream",
          "text": [
            "Epoch 101/200 - Training: 100%|██████████| 63/63 [00:17<00:00,  3.67it/s, loss=0.036]\n",
            "Epoch 101/200 - Validation: 100%|██████████| 32/32 [00:04<00:00,  6.55it/s, val_loss=0.0261]\n"
          ]
        },
        {
          "name": "stdout",
          "output_type": "stream",
          "text": [
            "Epoch 101/200 - Duration: 0.37 mins - Train Loss: 0.032, Train DICE: 0.576, Val Loss: 0.033, Val DICE: 0.587\n"
          ]
        },
        {
          "name": "stderr",
          "output_type": "stream",
          "text": [
            "Epoch 102/200 - Training: 100%|██████████| 63/63 [00:15<00:00,  3.98it/s, loss=0.0435]\n",
            "Epoch 102/200 - Validation: 100%|██████████| 32/32 [00:06<00:00,  4.65it/s, val_loss=0.0264]\n"
          ]
        },
        {
          "name": "stdout",
          "output_type": "stream",
          "text": [
            "Epoch 102/200 - Duration: 0.38 mins - Train Loss: 0.032, Train DICE: 0.577, Val Loss: 0.033, Val DICE: 0.586\n"
          ]
        },
        {
          "name": "stderr",
          "output_type": "stream",
          "text": [
            "Epoch 103/200 - Training: 100%|██████████| 63/63 [00:12<00:00,  4.98it/s, loss=0.0549]\n",
            "Epoch 103/200 - Validation: 100%|██████████| 32/32 [00:06<00:00,  5.12it/s, val_loss=0.0264]\n"
          ]
        },
        {
          "name": "stdout",
          "output_type": "stream",
          "text": [
            "Epoch 103/200 - Duration: 0.32 mins - Train Loss: 0.033, Train DICE: 0.576, Val Loss: 0.033, Val DICE: 0.587\n"
          ]
        },
        {
          "name": "stderr",
          "output_type": "stream",
          "text": [
            "Epoch 104/200 - Training: 100%|██████████| 63/63 [00:15<00:00,  3.99it/s, loss=0.0263]\n",
            "Epoch 104/200 - Validation: 100%|██████████| 32/32 [00:05<00:00,  6.18it/s, val_loss=0.0269]\n"
          ]
        },
        {
          "name": "stdout",
          "output_type": "stream",
          "text": [
            "Epoch 104/200 - Duration: 0.35 mins - Train Loss: 0.033, Train DICE: 0.575, Val Loss: 0.034, Val DICE: 0.584\n"
          ]
        },
        {
          "name": "stderr",
          "output_type": "stream",
          "text": [
            "Epoch 105/200 - Training: 100%|██████████| 63/63 [00:15<00:00,  4.12it/s, loss=0.0312]\n",
            "Epoch 105/200 - Validation: 100%|██████████| 32/32 [00:04<00:00,  6.54it/s, val_loss=0.027]\n"
          ]
        },
        {
          "name": "stdout",
          "output_type": "stream",
          "text": [
            "Epoch 105/200 - Duration: 0.34 mins - Train Loss: 0.033, Train DICE: 0.576, Val Loss: 0.034, Val DICE: 0.584\n"
          ]
        },
        {
          "name": "stderr",
          "output_type": "stream",
          "text": [
            "Epoch 106/200 - Training: 100%|██████████| 63/63 [00:14<00:00,  4.28it/s, loss=0.0365]\n",
            "Epoch 106/200 - Validation: 100%|██████████| 32/32 [00:04<00:00,  6.65it/s, val_loss=0.0258]\n"
          ]
        },
        {
          "name": "stdout",
          "output_type": "stream",
          "text": [
            "Epoch 106/200 - Duration: 0.33 mins - Train Loss: 0.032, Train DICE: 0.577, Val Loss: 0.033, Val DICE: 0.586\n"
          ]
        },
        {
          "name": "stderr",
          "output_type": "stream",
          "text": [
            "Epoch 107/200 - Training: 100%|██████████| 63/63 [00:15<00:00,  4.08it/s, loss=0.0284]\n",
            "Epoch 107/200 - Validation: 100%|██████████| 32/32 [00:06<00:00,  5.22it/s, val_loss=0.026]\n"
          ]
        },
        {
          "name": "stdout",
          "output_type": "stream",
          "text": [
            "Epoch 107/200 - Duration: 0.36 mins - Train Loss: 0.032, Train DICE: 0.577, Val Loss: 0.033, Val DICE: 0.588\n"
          ]
        },
        {
          "name": "stderr",
          "output_type": "stream",
          "text": [
            "Epoch 108/200 - Training: 100%|██████████| 63/63 [00:12<00:00,  5.08it/s, loss=0.0358]\n",
            "Epoch 108/200 - Validation: 100%|██████████| 32/32 [00:08<00:00,  3.89it/s, val_loss=0.025]\n"
          ]
        },
        {
          "name": "stdout",
          "output_type": "stream",
          "text": [
            "Epoch 108/200 - Duration: 0.34 mins - Train Loss: 0.033, Train DICE: 0.576, Val Loss: 0.031, Val DICE: 0.590\n"
          ]
        },
        {
          "name": "stderr",
          "output_type": "stream",
          "text": [
            "Epoch 109/200 - Training: 100%|██████████| 63/63 [00:15<00:00,  4.17it/s, loss=0.0409]\n",
            "Epoch 109/200 - Validation: 100%|██████████| 32/32 [00:04<00:00,  6.43it/s, val_loss=0.0246]\n"
          ]
        },
        {
          "name": "stdout",
          "output_type": "stream",
          "text": [
            "Epoch 109/200 - Duration: 0.33 mins - Train Loss: 0.032, Train DICE: 0.577, Val Loss: 0.032, Val DICE: 0.589\n"
          ]
        },
        {
          "name": "stderr",
          "output_type": "stream",
          "text": [
            "Epoch 110/200 - Training: 100%|██████████| 63/63 [00:14<00:00,  4.27it/s, loss=0.0292]\n",
            "Epoch 110/200 - Validation: 100%|██████████| 32/32 [00:04<00:00,  6.57it/s, val_loss=0.0255]\n"
          ]
        },
        {
          "name": "stdout",
          "output_type": "stream",
          "text": [
            "Epoch 110/200 - Duration: 0.33 mins - Train Loss: 0.032, Train DICE: 0.577, Val Loss: 0.033, Val DICE: 0.587\n"
          ]
        },
        {
          "name": "stderr",
          "output_type": "stream",
          "text": [
            "Epoch 111/200 - Training: 100%|██████████| 63/63 [00:14<00:00,  4.28it/s, loss=0.0375]\n",
            "Epoch 111/200 - Validation: 100%|██████████| 32/32 [00:04<00:00,  6.45it/s, val_loss=0.0258]\n"
          ]
        },
        {
          "name": "stdout",
          "output_type": "stream",
          "text": [
            "Epoch 111/200 - Duration: 0.33 mins - Train Loss: 0.032, Train DICE: 0.577, Val Loss: 0.032, Val DICE: 0.587\n"
          ]
        },
        {
          "name": "stderr",
          "output_type": "stream",
          "text": [
            "Epoch 112/200 - Training: 100%|██████████| 63/63 [00:14<00:00,  4.28it/s, loss=0.0375]\n",
            "Epoch 112/200 - Validation: 100%|██████████| 32/32 [00:05<00:00,  6.17it/s, val_loss=0.025]\n"
          ]
        },
        {
          "name": "stdout",
          "output_type": "stream",
          "text": [
            "Epoch 112/200 - Duration: 0.33 mins - Train Loss: 0.032, Train DICE: 0.577, Val Loss: 0.031, Val DICE: 0.590\n"
          ]
        },
        {
          "name": "stderr",
          "output_type": "stream",
          "text": [
            "Epoch 113/200 - Training: 100%|██████████| 63/63 [00:14<00:00,  4.24it/s, loss=0.0303]\n",
            "Epoch 113/200 - Validation: 100%|██████████| 32/32 [00:06<00:00,  4.92it/s, val_loss=0.0244]\n"
          ]
        },
        {
          "name": "stdout",
          "output_type": "stream",
          "text": [
            "Epoch 113/200 - Duration: 0.36 mins - Train Loss: 0.032, Train DICE: 0.577, Val Loss: 0.031, Val DICE: 0.589\n"
          ]
        },
        {
          "name": "stderr",
          "output_type": "stream",
          "text": [
            "Epoch 114/200 - Training: 100%|██████████| 63/63 [00:12<00:00,  5.08it/s, loss=0.0288]\n",
            "Epoch 114/200 - Validation: 100%|██████████| 32/32 [00:06<00:00,  5.14it/s, val_loss=0.0255]\n"
          ]
        },
        {
          "name": "stdout",
          "output_type": "stream",
          "text": [
            "Epoch 114/200 - Duration: 0.31 mins - Train Loss: 0.031, Train DICE: 0.578, Val Loss: 0.032, Val DICE: 0.589\n"
          ]
        },
        {
          "name": "stderr",
          "output_type": "stream",
          "text": [
            "Epoch 115/200 - Training: 100%|██████████| 63/63 [00:14<00:00,  4.28it/s, loss=0.0235]\n",
            "Epoch 115/200 - Validation: 100%|██████████| 32/32 [00:04<00:00,  6.66it/s, val_loss=0.0254]\n"
          ]
        },
        {
          "name": "stdout",
          "output_type": "stream",
          "text": [
            "Epoch 115/200 - Duration: 0.33 mins - Train Loss: 0.032, Train DICE: 0.577, Val Loss: 0.032, Val DICE: 0.588\n"
          ]
        },
        {
          "name": "stderr",
          "output_type": "stream",
          "text": [
            "Epoch 116/200 - Training: 100%|██████████| 63/63 [00:17<00:00,  3.68it/s, loss=0.0303]\n",
            "Epoch 116/200 - Validation: 100%|██████████| 32/32 [00:05<00:00,  6.13it/s, val_loss=0.0252]\n"
          ]
        },
        {
          "name": "stdout",
          "output_type": "stream",
          "text": [
            "Epoch 116/200 - Duration: 0.37 mins - Train Loss: 0.032, Train DICE: 0.578, Val Loss: 0.032, Val DICE: 0.589\n"
          ]
        },
        {
          "name": "stderr",
          "output_type": "stream",
          "text": [
            "Epoch 117/200 - Training: 100%|██████████| 63/63 [00:15<00:00,  4.11it/s, loss=0.0277]\n",
            "Epoch 117/200 - Validation: 100%|██████████| 32/32 [00:04<00:00,  6.54it/s, val_loss=0.0256]\n"
          ]
        },
        {
          "name": "stdout",
          "output_type": "stream",
          "text": [
            "Epoch 117/200 - Duration: 0.34 mins - Train Loss: 0.032, Train DICE: 0.578, Val Loss: 0.032, Val DICE: 0.589\n"
          ]
        },
        {
          "name": "stderr",
          "output_type": "stream",
          "text": [
            "Epoch 118/200 - Training: 100%|██████████| 63/63 [00:15<00:00,  4.16it/s, loss=0.0232]\n",
            "Epoch 118/200 - Validation: 100%|██████████| 32/32 [00:04<00:00,  6.41it/s, val_loss=0.0257]\n"
          ]
        },
        {
          "name": "stdout",
          "output_type": "stream",
          "text": [
            "Epoch 118/200 - Duration: 0.34 mins - Train Loss: 0.031, Train DICE: 0.579, Val Loss: 0.032, Val DICE: 0.589\n"
          ]
        },
        {
          "name": "stderr",
          "output_type": "stream",
          "text": [
            "Epoch 119/200 - Training: 100%|██████████| 63/63 [00:15<00:00,  4.19it/s, loss=0.0286]\n",
            "Epoch 119/200 - Validation: 100%|██████████| 32/32 [00:05<00:00,  5.41it/s, val_loss=0.0252]\n"
          ]
        },
        {
          "name": "stdout",
          "output_type": "stream",
          "text": [
            "Epoch 119/200 - Duration: 0.35 mins - Train Loss: 0.032, Train DICE: 0.579, Val Loss: 0.031, Val DICE: 0.590\n"
          ]
        },
        {
          "name": "stderr",
          "output_type": "stream",
          "text": [
            "Epoch 120/200 - Training: 100%|██████████| 63/63 [00:14<00:00,  4.47it/s, loss=0.0343]\n",
            "Epoch 120/200 - Validation: 100%|██████████| 32/32 [00:07<00:00,  4.52it/s, val_loss=0.0252]\n"
          ]
        },
        {
          "name": "stdout",
          "output_type": "stream",
          "text": [
            "Epoch 120/200 - Duration: 0.35 mins - Train Loss: 0.031, Train DICE: 0.579, Val Loss: 0.032, Val DICE: 0.588\n"
          ]
        },
        {
          "name": "stderr",
          "output_type": "stream",
          "text": [
            "Epoch 121/200 - Training: 100%|██████████| 63/63 [00:13<00:00,  4.67it/s, loss=0.0259]\n",
            "Epoch 121/200 - Validation: 100%|██████████| 32/32 [00:05<00:00,  5.90it/s, val_loss=0.0252]\n"
          ]
        },
        {
          "name": "stdout",
          "output_type": "stream",
          "text": [
            "Epoch 121/200 - Duration: 0.32 mins - Train Loss: 0.031, Train DICE: 0.580, Val Loss: 0.031, Val DICE: 0.590\n"
          ]
        },
        {
          "name": "stderr",
          "output_type": "stream",
          "text": [
            "Epoch 122/200 - Training: 100%|██████████| 63/63 [00:14<00:00,  4.25it/s, loss=0.0324]\n",
            "Epoch 122/200 - Validation: 100%|██████████| 32/32 [00:05<00:00,  6.36it/s, val_loss=0.0251]\n"
          ]
        },
        {
          "name": "stdout",
          "output_type": "stream",
          "text": [
            "Epoch 122/200 - Duration: 0.33 mins - Train Loss: 0.031, Train DICE: 0.580, Val Loss: 0.031, Val DICE: 0.589\n"
          ]
        },
        {
          "name": "stderr",
          "output_type": "stream",
          "text": [
            "Epoch 123/200 - Training: 100%|██████████| 63/63 [00:14<00:00,  4.26it/s, loss=0.0304]\n",
            "Epoch 123/200 - Validation: 100%|██████████| 32/32 [00:04<00:00,  6.62it/s, val_loss=0.0258]\n"
          ]
        },
        {
          "name": "stdout",
          "output_type": "stream",
          "text": [
            "Epoch 123/200 - Duration: 0.33 mins - Train Loss: 0.031, Train DICE: 0.579, Val Loss: 0.032, Val DICE: 0.589\n"
          ]
        },
        {
          "name": "stderr",
          "output_type": "stream",
          "text": [
            "Epoch 124/200 - Training: 100%|██████████| 63/63 [00:17<00:00,  3.59it/s, loss=0.0279]\n",
            "Epoch 124/200 - Validation: 100%|██████████| 32/32 [00:07<00:00,  4.40it/s, val_loss=0.0244]\n"
          ]
        },
        {
          "name": "stdout",
          "output_type": "stream",
          "text": [
            "Epoch 124/200 - Duration: 0.41 mins - Train Loss: 0.031, Train DICE: 0.581, Val Loss: 0.030, Val DICE: 0.591\n"
          ]
        },
        {
          "name": "stderr",
          "output_type": "stream",
          "text": [
            "Epoch 125/200 - Training: 100%|██████████| 63/63 [00:13<00:00,  4.71it/s, loss=0.0322]\n",
            "Epoch 125/200 - Validation: 100%|██████████| 32/32 [00:04<00:00,  6.41it/s, val_loss=0.0245]\n"
          ]
        },
        {
          "name": "stdout",
          "output_type": "stream",
          "text": [
            "Epoch 125/200 - Duration: 0.31 mins - Train Loss: 0.031, Train DICE: 0.580, Val Loss: 0.031, Val DICE: 0.590\n"
          ]
        },
        {
          "name": "stderr",
          "output_type": "stream",
          "text": [
            "Epoch 126/200 - Training: 100%|██████████| 63/63 [00:15<00:00,  3.99it/s, loss=0.0246]\n",
            "Epoch 126/200 - Validation: 100%|██████████| 32/32 [00:04<00:00,  6.60it/s, val_loss=0.0237]\n"
          ]
        },
        {
          "name": "stdout",
          "output_type": "stream",
          "text": [
            "Epoch 126/200 - Duration: 0.34 mins - Train Loss: 0.030, Train DICE: 0.581, Val Loss: 0.030, Val DICE: 0.592\n"
          ]
        },
        {
          "name": "stderr",
          "output_type": "stream",
          "text": [
            "Epoch 127/200 - Training: 100%|██████████| 63/63 [00:15<00:00,  4.15it/s, loss=0.0323]\n",
            "Epoch 127/200 - Validation: 100%|██████████| 32/32 [00:04<00:00,  6.62it/s, val_loss=0.0248]\n"
          ]
        },
        {
          "name": "stdout",
          "output_type": "stream",
          "text": [
            "Epoch 127/200 - Duration: 0.33 mins - Train Loss: 0.031, Train DICE: 0.580, Val Loss: 0.031, Val DICE: 0.591\n"
          ]
        },
        {
          "name": "stderr",
          "output_type": "stream",
          "text": [
            "Epoch 128/200 - Training: 100%|██████████| 63/63 [00:14<00:00,  4.23it/s, loss=0.0349]\n",
            "Epoch 128/200 - Validation: 100%|██████████| 32/32 [00:04<00:00,  6.56it/s, val_loss=0.0242]\n"
          ]
        },
        {
          "name": "stdout",
          "output_type": "stream",
          "text": [
            "Epoch 128/200 - Duration: 0.33 mins - Train Loss: 0.031, Train DICE: 0.580, Val Loss: 0.030, Val DICE: 0.593\n"
          ]
        },
        {
          "name": "stderr",
          "output_type": "stream",
          "text": [
            "Epoch 129/200 - Training: 100%|██████████| 63/63 [00:14<00:00,  4.37it/s, loss=0.0225]\n",
            "Epoch 129/200 - Validation: 100%|██████████| 32/32 [00:06<00:00,  4.73it/s, val_loss=0.024]\n"
          ]
        },
        {
          "name": "stdout",
          "output_type": "stream",
          "text": [
            "Epoch 129/200 - Duration: 0.35 mins - Train Loss: 0.030, Train DICE: 0.581, Val Loss: 0.030, Val DICE: 0.593\n"
          ]
        },
        {
          "name": "stderr",
          "output_type": "stream",
          "text": [
            "Epoch 130/200 - Training: 100%|██████████| 63/63 [00:12<00:00,  5.01it/s, loss=0.0257]\n",
            "Epoch 130/200 - Validation: 100%|██████████| 32/32 [00:06<00:00,  5.26it/s, val_loss=0.0249]\n"
          ]
        },
        {
          "name": "stdout",
          "output_type": "stream",
          "text": [
            "Epoch 130/200 - Duration: 0.31 mins - Train Loss: 0.031, Train DICE: 0.581, Val Loss: 0.031, Val DICE: 0.590\n"
          ]
        },
        {
          "name": "stderr",
          "output_type": "stream",
          "text": [
            "Epoch 131/200 - Training: 100%|██████████| 63/63 [00:14<00:00,  4.32it/s, loss=0.0328]\n",
            "Epoch 131/200 - Validation: 100%|██████████| 32/32 [00:05<00:00,  6.39it/s, val_loss=0.0237]\n"
          ]
        },
        {
          "name": "stdout",
          "output_type": "stream",
          "text": [
            "Epoch 131/200 - Duration: 0.33 mins - Train Loss: 0.030, Train DICE: 0.582, Val Loss: 0.030, Val DICE: 0.591\n"
          ]
        },
        {
          "name": "stderr",
          "output_type": "stream",
          "text": [
            "Epoch 132/200 - Training: 100%|██████████| 63/63 [00:16<00:00,  3.72it/s, loss=0.0417]\n",
            "Epoch 132/200 - Validation: 100%|██████████| 32/32 [00:04<00:00,  6.56it/s, val_loss=0.0243]\n"
          ]
        },
        {
          "name": "stdout",
          "output_type": "stream",
          "text": [
            "Epoch 132/200 - Duration: 0.36 mins - Train Loss: 0.030, Train DICE: 0.582, Val Loss: 0.030, Val DICE: 0.592\n"
          ]
        },
        {
          "name": "stderr",
          "output_type": "stream",
          "text": [
            "Epoch 133/200 - Training: 100%|██████████| 63/63 [00:14<00:00,  4.33it/s, loss=0.0241]\n",
            "Epoch 133/200 - Validation: 100%|██████████| 32/32 [00:04<00:00,  6.51it/s, val_loss=0.0256]\n"
          ]
        },
        {
          "name": "stdout",
          "output_type": "stream",
          "text": [
            "Epoch 133/200 - Duration: 0.32 mins - Train Loss: 0.030, Train DICE: 0.581, Val Loss: 0.032, Val DICE: 0.589\n"
          ]
        },
        {
          "name": "stderr",
          "output_type": "stream",
          "text": [
            "Epoch 134/200 - Training: 100%|██████████| 63/63 [00:15<00:00,  4.14it/s, loss=0.0414]\n",
            "Epoch 134/200 - Validation: 100%|██████████| 32/32 [00:05<00:00,  5.77it/s, val_loss=0.0242]\n"
          ]
        },
        {
          "name": "stdout",
          "output_type": "stream",
          "text": [
            "Epoch 134/200 - Duration: 0.35 mins - Train Loss: 0.030, Train DICE: 0.582, Val Loss: 0.031, Val DICE: 0.591\n"
          ]
        },
        {
          "name": "stderr",
          "output_type": "stream",
          "text": [
            "Epoch 135/200 - Training: 100%|██████████| 63/63 [00:14<00:00,  4.41it/s, loss=0.0305]\n",
            "Epoch 135/200 - Validation: 100%|██████████| 32/32 [00:06<00:00,  5.05it/s, val_loss=0.0246]\n"
          ]
        },
        {
          "name": "stdout",
          "output_type": "stream",
          "text": [
            "Epoch 135/200 - Duration: 0.34 mins - Train Loss: 0.031, Train DICE: 0.579, Val Loss: 0.031, Val DICE: 0.591\n"
          ]
        },
        {
          "name": "stderr",
          "output_type": "stream",
          "text": [
            "Epoch 136/200 - Training: 100%|██████████| 63/63 [00:12<00:00,  5.06it/s, loss=0.0278]\n",
            "Epoch 136/200 - Validation: 100%|██████████| 32/32 [00:06<00:00,  5.15it/s, val_loss=0.0237]\n"
          ]
        },
        {
          "name": "stdout",
          "output_type": "stream",
          "text": [
            "Epoch 136/200 - Duration: 0.31 mins - Train Loss: 0.031, Train DICE: 0.581, Val Loss: 0.030, Val DICE: 0.594\n"
          ]
        },
        {
          "name": "stderr",
          "output_type": "stream",
          "text": [
            "Epoch 137/200 - Training: 100%|██████████| 63/63 [00:14<00:00,  4.27it/s, loss=0.0321]\n",
            "Epoch 137/200 - Validation: 100%|██████████| 32/32 [00:04<00:00,  6.62it/s, val_loss=0.0245]\n"
          ]
        },
        {
          "name": "stdout",
          "output_type": "stream",
          "text": [
            "Epoch 137/200 - Duration: 0.33 mins - Train Loss: 0.030, Train DICE: 0.582, Val Loss: 0.031, Val DICE: 0.592\n"
          ]
        },
        {
          "name": "stderr",
          "output_type": "stream",
          "text": [
            "Epoch 138/200 - Training: 100%|██████████| 63/63 [00:15<00:00,  4.13it/s, loss=0.0367]\n",
            "Epoch 138/200 - Validation: 100%|██████████| 32/32 [00:04<00:00,  6.72it/s, val_loss=0.024]\n"
          ]
        },
        {
          "name": "stdout",
          "output_type": "stream",
          "text": [
            "Epoch 138/200 - Duration: 0.33 mins - Train Loss: 0.030, Train DICE: 0.582, Val Loss: 0.030, Val DICE: 0.593\n"
          ]
        },
        {
          "name": "stderr",
          "output_type": "stream",
          "text": [
            "Epoch 139/200 - Training: 100%|██████████| 63/63 [00:14<00:00,  4.30it/s, loss=0.0241]\n",
            "Epoch 139/200 - Validation: 100%|██████████| 32/32 [00:04<00:00,  6.61it/s, val_loss=0.0243]\n"
          ]
        },
        {
          "name": "stdout",
          "output_type": "stream",
          "text": [
            "Epoch 139/200 - Duration: 0.33 mins - Train Loss: 0.030, Train DICE: 0.582, Val Loss: 0.031, Val DICE: 0.591\n"
          ]
        },
        {
          "name": "stderr",
          "output_type": "stream",
          "text": [
            "Epoch 140/200 - Training: 100%|██████████| 63/63 [00:18<00:00,  3.39it/s, loss=0.0301]\n",
            "Epoch 140/200 - Validation: 100%|██████████| 32/32 [00:04<00:00,  6.65it/s, val_loss=0.0233]\n"
          ]
        },
        {
          "name": "stdout",
          "output_type": "stream",
          "text": [
            "Epoch 140/200 - Duration: 0.39 mins - Train Loss: 0.030, Train DICE: 0.582, Val Loss: 0.029, Val DICE: 0.595\n"
          ]
        },
        {
          "name": "stderr",
          "output_type": "stream",
          "text": [
            "Epoch 141/200 - Training: 100%|██████████| 63/63 [00:15<00:00,  4.13it/s, loss=0.0296]\n",
            "Epoch 141/200 - Validation: 100%|██████████| 32/32 [00:04<00:00,  6.55it/s, val_loss=0.0234]\n"
          ]
        },
        {
          "name": "stdout",
          "output_type": "stream",
          "text": [
            "Epoch 141/200 - Duration: 0.34 mins - Train Loss: 0.031, Train DICE: 0.581, Val Loss: 0.030, Val DICE: 0.592\n"
          ]
        },
        {
          "name": "stderr",
          "output_type": "stream",
          "text": [
            "Epoch 142/200 - Training: 100%|██████████| 63/63 [00:14<00:00,  4.26it/s, loss=0.0278]\n",
            "Epoch 142/200 - Validation: 100%|██████████| 32/32 [00:04<00:00,  6.60it/s, val_loss=0.0246]\n"
          ]
        },
        {
          "name": "stdout",
          "output_type": "stream",
          "text": [
            "Epoch 142/200 - Duration: 0.33 mins - Train Loss: 0.030, Train DICE: 0.582, Val Loss: 0.031, Val DICE: 0.591\n"
          ]
        },
        {
          "name": "stderr",
          "output_type": "stream",
          "text": [
            "Epoch 143/200 - Training: 100%|██████████| 63/63 [00:14<00:00,  4.28it/s, loss=0.0408]\n",
            "Epoch 143/200 - Validation: 100%|██████████| 32/32 [00:05<00:00,  5.45it/s, val_loss=0.0235]\n"
          ]
        },
        {
          "name": "stdout",
          "output_type": "stream",
          "text": [
            "Epoch 143/200 - Duration: 0.34 mins - Train Loss: 0.030, Train DICE: 0.582, Val Loss: 0.030, Val DICE: 0.592\n"
          ]
        },
        {
          "name": "stderr",
          "output_type": "stream",
          "text": [
            "Epoch 144/200 - Training: 100%|██████████| 63/63 [00:13<00:00,  4.79it/s, loss=0.0293]\n",
            "Epoch 144/200 - Validation: 100%|██████████| 32/32 [00:07<00:00,  4.41it/s, val_loss=0.0245]\n"
          ]
        },
        {
          "name": "stdout",
          "output_type": "stream",
          "text": [
            "Epoch 144/200 - Duration: 0.34 mins - Train Loss: 0.030, Train DICE: 0.583, Val Loss: 0.031, Val DICE: 0.591\n"
          ]
        },
        {
          "name": "stderr",
          "output_type": "stream",
          "text": [
            "Epoch 145/200 - Training: 100%|██████████| 63/63 [00:13<00:00,  4.74it/s, loss=0.0303]\n",
            "Epoch 145/200 - Validation: 100%|██████████| 32/32 [00:05<00:00,  6.24it/s, val_loss=0.0229]\n"
          ]
        },
        {
          "name": "stdout",
          "output_type": "stream",
          "text": [
            "Epoch 145/200 - Duration: 0.31 mins - Train Loss: 0.030, Train DICE: 0.582, Val Loss: 0.029, Val DICE: 0.594\n"
          ]
        },
        {
          "name": "stderr",
          "output_type": "stream",
          "text": [
            "Epoch 146/200 - Training: 100%|██████████| 63/63 [00:15<00:00,  4.13it/s, loss=0.0283]\n",
            "Epoch 146/200 - Validation: 100%|██████████| 32/32 [00:04<00:00,  6.53it/s, val_loss=0.0235]\n"
          ]
        },
        {
          "name": "stdout",
          "output_type": "stream",
          "text": [
            "Epoch 146/200 - Duration: 0.34 mins - Train Loss: 0.030, Train DICE: 0.583, Val Loss: 0.029, Val DICE: 0.593\n"
          ]
        },
        {
          "name": "stderr",
          "output_type": "stream",
          "text": [
            "Epoch 147/200 - Training: 100%|██████████| 63/63 [00:14<00:00,  4.25it/s, loss=0.0331]\n",
            "Epoch 147/200 - Validation: 100%|██████████| 32/32 [00:05<00:00,  5.48it/s, val_loss=0.0231]\n"
          ]
        },
        {
          "name": "stdout",
          "output_type": "stream",
          "text": [
            "Epoch 147/200 - Duration: 0.34 mins - Train Loss: 0.030, Train DICE: 0.584, Val Loss: 0.029, Val DICE: 0.596\n"
          ]
        },
        {
          "name": "stderr",
          "output_type": "stream",
          "text": [
            "Epoch 148/200 - Training: 100%|██████████| 63/63 [00:16<00:00,  3.71it/s, loss=0.027]\n",
            "Epoch 148/200 - Validation: 100%|██████████| 32/32 [00:04<00:00,  6.65it/s, val_loss=0.0242]\n"
          ]
        },
        {
          "name": "stdout",
          "output_type": "stream",
          "text": [
            "Epoch 148/200 - Duration: 0.36 mins - Train Loss: 0.029, Train DICE: 0.583, Val Loss: 0.030, Val DICE: 0.593\n"
          ]
        },
        {
          "name": "stderr",
          "output_type": "stream",
          "text": [
            "Epoch 149/200 - Training: 100%|██████████| 63/63 [00:14<00:00,  4.33it/s, loss=0.0258]\n",
            "Epoch 149/200 - Validation: 100%|██████████| 32/32 [00:05<00:00,  5.33it/s, val_loss=0.0237]\n"
          ]
        },
        {
          "name": "stdout",
          "output_type": "stream",
          "text": [
            "Epoch 149/200 - Duration: 0.34 mins - Train Loss: 0.030, Train DICE: 0.583, Val Loss: 0.030, Val DICE: 0.593\n"
          ]
        },
        {
          "name": "stderr",
          "output_type": "stream",
          "text": [
            "Epoch 150/200 - Training: 100%|██████████| 63/63 [00:12<00:00,  5.24it/s, loss=0.0274]\n",
            "Epoch 150/200 - Validation: 100%|██████████| 32/32 [00:06<00:00,  4.92it/s, val_loss=0.0238]\n"
          ]
        },
        {
          "name": "stdout",
          "output_type": "stream",
          "text": [
            "Epoch 150/200 - Duration: 0.31 mins - Train Loss: 0.030, Train DICE: 0.582, Val Loss: 0.030, Val DICE: 0.593\n"
          ]
        },
        {
          "name": "stderr",
          "output_type": "stream",
          "text": [
            "Epoch 151/200 - Training: 100%|██████████| 63/63 [00:14<00:00,  4.37it/s, loss=0.0262]\n",
            "Epoch 151/200 - Validation: 100%|██████████| 32/32 [00:04<00:00,  6.63it/s, val_loss=0.0222]\n"
          ]
        },
        {
          "name": "stdout",
          "output_type": "stream",
          "text": [
            "Epoch 151/200 - Duration: 0.32 mins - Train Loss: 0.030, Train DICE: 0.583, Val Loss: 0.029, Val DICE: 0.596\n"
          ]
        },
        {
          "name": "stderr",
          "output_type": "stream",
          "text": [
            "Epoch 152/200 - Training: 100%|██████████| 63/63 [00:14<00:00,  4.46it/s, loss=0.0352]\n",
            "Epoch 152/200 - Validation: 100%|██████████| 32/32 [00:04<00:00,  6.58it/s, val_loss=0.0228]\n"
          ]
        },
        {
          "name": "stdout",
          "output_type": "stream",
          "text": [
            "Epoch 152/200 - Duration: 0.32 mins - Train Loss: 0.029, Train DICE: 0.584, Val Loss: 0.029, Val DICE: 0.594\n"
          ]
        },
        {
          "name": "stderr",
          "output_type": "stream",
          "text": [
            "Epoch 153/200 - Training: 100%|██████████| 63/63 [00:14<00:00,  4.35it/s, loss=0.0262]\n",
            "Epoch 153/200 - Validation: 100%|██████████| 32/32 [00:04<00:00,  6.61it/s, val_loss=0.0233]\n"
          ]
        },
        {
          "name": "stdout",
          "output_type": "stream",
          "text": [
            "Epoch 153/200 - Duration: 0.32 mins - Train Loss: 0.029, Train DICE: 0.584, Val Loss: 0.029, Val DICE: 0.594\n"
          ]
        },
        {
          "name": "stderr",
          "output_type": "stream",
          "text": [
            "Epoch 154/200 - Training: 100%|██████████| 63/63 [00:14<00:00,  4.33it/s, loss=0.0283]\n",
            "Epoch 154/200 - Validation: 100%|██████████| 32/32 [00:05<00:00,  5.38it/s, val_loss=0.0243]\n"
          ]
        },
        {
          "name": "stdout",
          "output_type": "stream",
          "text": [
            "Epoch 154/200 - Duration: 0.34 mins - Train Loss: 0.029, Train DICE: 0.583, Val Loss: 0.030, Val DICE: 0.592\n"
          ]
        },
        {
          "name": "stderr",
          "output_type": "stream",
          "text": [
            "Epoch 155/200 - Training: 100%|██████████| 63/63 [00:12<00:00,  5.24it/s, loss=0.0388]\n",
            "Epoch 155/200 - Validation: 100%|██████████| 32/32 [00:06<00:00,  4.84it/s, val_loss=0.0232]\n"
          ]
        },
        {
          "name": "stdout",
          "output_type": "stream",
          "text": [
            "Epoch 155/200 - Duration: 0.31 mins - Train Loss: 0.029, Train DICE: 0.584, Val Loss: 0.029, Val DICE: 0.595\n"
          ]
        },
        {
          "name": "stderr",
          "output_type": "stream",
          "text": [
            "Epoch 156/200 - Training: 100%|██████████| 63/63 [00:17<00:00,  3.58it/s, loss=0.0255]\n",
            "Epoch 156/200 - Validation: 100%|██████████| 32/32 [00:04<00:00,  6.66it/s, val_loss=0.0228]\n"
          ]
        },
        {
          "name": "stdout",
          "output_type": "stream",
          "text": [
            "Epoch 156/200 - Duration: 0.37 mins - Train Loss: 0.029, Train DICE: 0.583, Val Loss: 0.029, Val DICE: 0.595\n"
          ]
        },
        {
          "name": "stderr",
          "output_type": "stream",
          "text": [
            "Epoch 157/200 - Training: 100%|██████████| 63/63 [00:15<00:00,  4.07it/s, loss=0.0236]\n",
            "Epoch 157/200 - Validation: 100%|██████████| 32/32 [00:04<00:00,  6.57it/s, val_loss=0.0231]\n"
          ]
        },
        {
          "name": "stdout",
          "output_type": "stream",
          "text": [
            "Epoch 157/200 - Duration: 0.34 mins - Train Loss: 0.029, Train DICE: 0.583, Val Loss: 0.029, Val DICE: 0.596\n"
          ]
        },
        {
          "name": "stderr",
          "output_type": "stream",
          "text": [
            "Epoch 158/200 - Training: 100%|██████████| 63/63 [00:15<00:00,  4.17it/s, loss=0.0342]\n",
            "Epoch 158/200 - Validation: 100%|██████████| 32/32 [00:04<00:00,  6.75it/s, val_loss=0.023]\n"
          ]
        },
        {
          "name": "stdout",
          "output_type": "stream",
          "text": [
            "Epoch 158/200 - Duration: 0.33 mins - Train Loss: 0.028, Train DICE: 0.586, Val Loss: 0.029, Val DICE: 0.596\n"
          ]
        },
        {
          "name": "stderr",
          "output_type": "stream",
          "text": [
            "Epoch 159/200 - Training: 100%|██████████| 63/63 [00:15<00:00,  4.18it/s, loss=0.025]\n",
            "Epoch 159/200 - Validation: 100%|██████████| 32/32 [00:05<00:00,  5.39it/s, val_loss=0.0235]\n"
          ]
        },
        {
          "name": "stdout",
          "output_type": "stream",
          "text": [
            "Epoch 159/200 - Duration: 0.35 mins - Train Loss: 0.028, Train DICE: 0.586, Val Loss: 0.029, Val DICE: 0.594\n"
          ]
        },
        {
          "name": "stderr",
          "output_type": "stream",
          "text": [
            "Epoch 160/200 - Training: 100%|██████████| 63/63 [00:12<00:00,  4.98it/s, loss=0.0277]\n",
            "Epoch 160/200 - Validation: 100%|██████████| 32/32 [00:06<00:00,  4.61it/s, val_loss=0.0227]\n"
          ]
        },
        {
          "name": "stdout",
          "output_type": "stream",
          "text": [
            "Epoch 160/200 - Duration: 0.33 mins - Train Loss: 0.029, Train DICE: 0.585, Val Loss: 0.028, Val DICE: 0.596\n"
          ]
        },
        {
          "name": "stderr",
          "output_type": "stream",
          "text": [
            "Epoch 161/200 - Training: 100%|██████████| 63/63 [00:14<00:00,  4.44it/s, loss=0.0294]\n",
            "Epoch 161/200 - Validation: 100%|██████████| 32/32 [00:05<00:00,  6.08it/s, val_loss=0.0219]\n"
          ]
        },
        {
          "name": "stdout",
          "output_type": "stream",
          "text": [
            "Epoch 161/200 - Duration: 0.32 mins - Train Loss: 0.029, Train DICE: 0.583, Val Loss: 0.028, Val DICE: 0.597\n"
          ]
        },
        {
          "name": "stderr",
          "output_type": "stream",
          "text": [
            "Epoch 162/200 - Training: 100%|██████████| 63/63 [00:15<00:00,  4.14it/s, loss=0.0298]\n",
            "Epoch 162/200 - Validation: 100%|██████████| 32/32 [00:04<00:00,  6.54it/s, val_loss=0.0226]\n"
          ]
        },
        {
          "name": "stdout",
          "output_type": "stream",
          "text": [
            "Epoch 162/200 - Duration: 0.34 mins - Train Loss: 0.028, Train DICE: 0.586, Val Loss: 0.029, Val DICE: 0.595\n"
          ]
        },
        {
          "name": "stderr",
          "output_type": "stream",
          "text": [
            "Epoch 163/200 - Training: 100%|██████████| 63/63 [00:15<00:00,  4.17it/s, loss=0.0269]\n",
            "Epoch 163/200 - Validation: 100%|██████████| 32/32 [00:06<00:00,  4.66it/s, val_loss=0.0231]\n"
          ]
        },
        {
          "name": "stdout",
          "output_type": "stream",
          "text": [
            "Epoch 163/200 - Duration: 0.37 mins - Train Loss: 0.029, Train DICE: 0.584, Val Loss: 0.030, Val DICE: 0.593\n"
          ]
        },
        {
          "name": "stderr",
          "output_type": "stream",
          "text": [
            "Epoch 164/200 - Training: 100%|██████████| 63/63 [00:15<00:00,  4.16it/s, loss=0.0264]\n",
            "Epoch 164/200 - Validation: 100%|██████████| 32/32 [00:05<00:00,  6.31it/s, val_loss=0.0238]\n"
          ]
        },
        {
          "name": "stdout",
          "output_type": "stream",
          "text": [
            "Epoch 164/200 - Duration: 0.34 mins - Train Loss: 0.029, Train DICE: 0.585, Val Loss: 0.030, Val DICE: 0.593\n"
          ]
        },
        {
          "name": "stderr",
          "output_type": "stream",
          "text": [
            "Epoch 165/200 - Training: 100%|██████████| 63/63 [00:14<00:00,  4.29it/s, loss=0.0276]\n",
            "Epoch 165/200 - Validation: 100%|██████████| 32/32 [00:06<00:00,  5.21it/s, val_loss=0.0223]\n"
          ]
        },
        {
          "name": "stdout",
          "output_type": "stream",
          "text": [
            "Epoch 165/200 - Duration: 0.35 mins - Train Loss: 0.028, Train DICE: 0.586, Val Loss: 0.028, Val DICE: 0.596\n"
          ]
        },
        {
          "name": "stderr",
          "output_type": "stream",
          "text": [
            "Epoch 166/200 - Training: 100%|██████████| 63/63 [00:12<00:00,  4.94it/s, loss=0.0313]\n",
            "Epoch 166/200 - Validation: 100%|██████████| 32/32 [00:06<00:00,  5.05it/s, val_loss=0.0233]\n"
          ]
        },
        {
          "name": "stdout",
          "output_type": "stream",
          "text": [
            "Epoch 166/200 - Duration: 0.32 mins - Train Loss: 0.029, Train DICE: 0.585, Val Loss: 0.029, Val DICE: 0.594\n"
          ]
        },
        {
          "name": "stderr",
          "output_type": "stream",
          "text": [
            "Epoch 167/200 - Training: 100%|██████████| 63/63 [00:14<00:00,  4.31it/s, loss=0.0297]\n",
            "Epoch 167/200 - Validation: 100%|██████████| 32/32 [00:05<00:00,  6.37it/s, val_loss=0.0228]\n"
          ]
        },
        {
          "name": "stdout",
          "output_type": "stream",
          "text": [
            "Epoch 167/200 - Duration: 0.33 mins - Train Loss: 0.029, Train DICE: 0.585, Val Loss: 0.029, Val DICE: 0.594\n"
          ]
        },
        {
          "name": "stderr",
          "output_type": "stream",
          "text": [
            "Epoch 168/200 - Training: 100%|██████████| 63/63 [00:14<00:00,  4.34it/s, loss=0.0315]\n",
            "Epoch 168/200 - Validation: 100%|██████████| 32/32 [00:04<00:00,  6.57it/s, val_loss=0.0235]\n"
          ]
        },
        {
          "name": "stdout",
          "output_type": "stream",
          "text": [
            "Epoch 168/200 - Duration: 0.32 mins - Train Loss: 0.029, Train DICE: 0.585, Val Loss: 0.030, Val DICE: 0.593\n"
          ]
        },
        {
          "name": "stderr",
          "output_type": "stream",
          "text": [
            "Epoch 169/200 - Training: 100%|██████████| 63/63 [00:14<00:00,  4.40it/s, loss=0.0251]\n",
            "Epoch 169/200 - Validation: 100%|██████████| 32/32 [00:04<00:00,  6.67it/s, val_loss=0.0229]\n"
          ]
        },
        {
          "name": "stdout",
          "output_type": "stream",
          "text": [
            "Epoch 169/200 - Duration: 0.32 mins - Train Loss: 0.028, Train DICE: 0.585, Val Loss: 0.029, Val DICE: 0.595\n"
          ]
        },
        {
          "name": "stderr",
          "output_type": "stream",
          "text": [
            "Epoch 170/200 - Training: 100%|██████████| 63/63 [00:14<00:00,  4.21it/s, loss=0.0339]\n",
            "Epoch 170/200 - Validation: 100%|██████████| 32/32 [00:04<00:00,  6.53it/s, val_loss=0.0226]\n"
          ]
        },
        {
          "name": "stdout",
          "output_type": "stream",
          "text": [
            "Epoch 170/200 - Duration: 0.33 mins - Train Loss: 0.028, Train DICE: 0.586, Val Loss: 0.028, Val DICE: 0.596\n"
          ]
        },
        {
          "name": "stderr",
          "output_type": "stream",
          "text": [
            "Epoch 171/200 - Training: 100%|██████████| 63/63 [00:14<00:00,  4.33it/s, loss=0.0196]\n",
            "Epoch 171/200 - Validation: 100%|██████████| 32/32 [00:07<00:00,  4.00it/s, val_loss=0.022]\n"
          ]
        },
        {
          "name": "stdout",
          "output_type": "stream",
          "text": [
            "Epoch 171/200 - Duration: 0.38 mins - Train Loss: 0.028, Train DICE: 0.586, Val Loss: 0.027, Val DICE: 0.598\n"
          ]
        },
        {
          "name": "stderr",
          "output_type": "stream",
          "text": [
            "Epoch 172/200 - Training: 100%|██████████| 63/63 [00:12<00:00,  5.02it/s, loss=0.0323]\n",
            "Epoch 172/200 - Validation: 100%|██████████| 32/32 [00:06<00:00,  4.83it/s, val_loss=0.0229]\n"
          ]
        },
        {
          "name": "stdout",
          "output_type": "stream",
          "text": [
            "Epoch 172/200 - Duration: 0.32 mins - Train Loss: 0.028, Train DICE: 0.585, Val Loss: 0.029, Val DICE: 0.595\n"
          ]
        },
        {
          "name": "stderr",
          "output_type": "stream",
          "text": [
            "Epoch 173/200 - Training: 100%|██████████| 63/63 [00:15<00:00,  4.13it/s, loss=0.029]\n",
            "Epoch 173/200 - Validation: 100%|██████████| 32/32 [00:04<00:00,  6.46it/s, val_loss=0.0223]\n"
          ]
        },
        {
          "name": "stdout",
          "output_type": "stream",
          "text": [
            "Epoch 173/200 - Duration: 0.34 mins - Train Loss: 0.028, Train DICE: 0.585, Val Loss: 0.029, Val DICE: 0.595\n"
          ]
        },
        {
          "name": "stderr",
          "output_type": "stream",
          "text": [
            "Epoch 174/200 - Training: 100%|██████████| 63/63 [00:16<00:00,  3.90it/s, loss=0.0285]\n",
            "Epoch 174/200 - Validation: 100%|██████████| 32/32 [00:04<00:00,  6.54it/s, val_loss=0.0218]\n"
          ]
        },
        {
          "name": "stdout",
          "output_type": "stream",
          "text": [
            "Epoch 174/200 - Duration: 0.35 mins - Train Loss: 0.028, Train DICE: 0.586, Val Loss: 0.028, Val DICE: 0.596\n"
          ]
        },
        {
          "name": "stderr",
          "output_type": "stream",
          "text": [
            "Epoch 175/200 - Training: 100%|██████████| 63/63 [00:14<00:00,  4.35it/s, loss=0.0247]\n",
            "Epoch 175/200 - Validation: 100%|██████████| 32/32 [00:04<00:00,  6.65it/s, val_loss=0.023]\n"
          ]
        },
        {
          "name": "stdout",
          "output_type": "stream",
          "text": [
            "Epoch 175/200 - Duration: 0.32 mins - Train Loss: 0.028, Train DICE: 0.587, Val Loss: 0.029, Val DICE: 0.595\n"
          ]
        },
        {
          "name": "stderr",
          "output_type": "stream",
          "text": [
            "Epoch 176/200 - Training: 100%|██████████| 63/63 [00:14<00:00,  4.22it/s, loss=0.0159]\n",
            "Epoch 176/200 - Validation: 100%|██████████| 32/32 [00:04<00:00,  6.43it/s, val_loss=0.0223]\n"
          ]
        },
        {
          "name": "stdout",
          "output_type": "stream",
          "text": [
            "Epoch 176/200 - Duration: 0.33 mins - Train Loss: 0.028, Train DICE: 0.587, Val Loss: 0.029, Val DICE: 0.595\n"
          ]
        },
        {
          "name": "stderr",
          "output_type": "stream",
          "text": [
            "Epoch 177/200 - Training: 100%|██████████| 63/63 [00:14<00:00,  4.20it/s, loss=0.0245]\n",
            "Epoch 177/200 - Validation: 100%|██████████| 32/32 [00:05<00:00,  5.40it/s, val_loss=0.0213]\n"
          ]
        },
        {
          "name": "stdout",
          "output_type": "stream",
          "text": [
            "Epoch 177/200 - Duration: 0.35 mins - Train Loss: 0.028, Train DICE: 0.587, Val Loss: 0.027, Val DICE: 0.598\n"
          ]
        },
        {
          "name": "stderr",
          "output_type": "stream",
          "text": [
            "Epoch 178/200 - Training: 100%|██████████| 63/63 [00:13<00:00,  4.57it/s, loss=0.0255]\n",
            "Epoch 178/200 - Validation: 100%|██████████| 32/32 [00:07<00:00,  4.47it/s, val_loss=0.0222]\n"
          ]
        },
        {
          "name": "stdout",
          "output_type": "stream",
          "text": [
            "Epoch 178/200 - Duration: 0.35 mins - Train Loss: 0.027, Train DICE: 0.587, Val Loss: 0.028, Val DICE: 0.598\n"
          ]
        },
        {
          "name": "stderr",
          "output_type": "stream",
          "text": [
            "Epoch 179/200 - Training: 100%|██████████| 63/63 [00:12<00:00,  5.19it/s, loss=0.0248]\n",
            "Epoch 179/200 - Validation: 100%|██████████| 32/32 [00:07<00:00,  4.40it/s, val_loss=0.0226]\n"
          ]
        },
        {
          "name": "stdout",
          "output_type": "stream",
          "text": [
            "Epoch 179/200 - Duration: 0.32 mins - Train Loss: 0.027, Train DICE: 0.588, Val Loss: 0.028, Val DICE: 0.596\n"
          ]
        },
        {
          "name": "stderr",
          "output_type": "stream",
          "text": [
            "Epoch 180/200 - Training: 100%|██████████| 63/63 [00:14<00:00,  4.37it/s, loss=0.0324]\n",
            "Epoch 180/200 - Validation: 100%|██████████| 32/32 [00:05<00:00,  6.39it/s, val_loss=0.0221]\n"
          ]
        },
        {
          "name": "stdout",
          "output_type": "stream",
          "text": [
            "Epoch 180/200 - Duration: 0.32 mins - Train Loss: 0.028, Train DICE: 0.585, Val Loss: 0.028, Val DICE: 0.597\n"
          ]
        },
        {
          "name": "stderr",
          "output_type": "stream",
          "text": [
            "Epoch 181/200 - Training: 100%|██████████| 63/63 [00:15<00:00,  4.19it/s, loss=0.0277]\n",
            "Epoch 181/200 - Validation: 100%|██████████| 32/32 [00:05<00:00,  6.35it/s, val_loss=0.0225]\n"
          ]
        },
        {
          "name": "stdout",
          "output_type": "stream",
          "text": [
            "Epoch 181/200 - Duration: 0.34 mins - Train Loss: 0.028, Train DICE: 0.586, Val Loss: 0.028, Val DICE: 0.597\n"
          ]
        },
        {
          "name": "stderr",
          "output_type": "stream",
          "text": [
            "Epoch 182/200 - Training: 100%|██████████| 63/63 [00:14<00:00,  4.25it/s, loss=0.0376]\n",
            "Epoch 182/200 - Validation: 100%|██████████| 32/32 [00:04<00:00,  6.57it/s, val_loss=0.0223]\n"
          ]
        },
        {
          "name": "stdout",
          "output_type": "stream",
          "text": [
            "Epoch 182/200 - Duration: 0.33 mins - Train Loss: 0.028, Train DICE: 0.586, Val Loss: 0.028, Val DICE: 0.596\n"
          ]
        },
        {
          "name": "stderr",
          "output_type": "stream",
          "text": [
            "Epoch 183/200 - Training: 100%|██████████| 63/63 [00:14<00:00,  4.28it/s, loss=0.0219]\n",
            "Epoch 183/200 - Validation: 100%|██████████| 32/32 [00:05<00:00,  6.15it/s, val_loss=0.0219]\n"
          ]
        },
        {
          "name": "stdout",
          "output_type": "stream",
          "text": [
            "Epoch 183/200 - Duration: 0.33 mins - Train Loss: 0.027, Train DICE: 0.587, Val Loss: 0.027, Val DICE: 0.597\n"
          ]
        },
        {
          "name": "stderr",
          "output_type": "stream",
          "text": [
            "Epoch 184/200 - Training: 100%|██████████| 63/63 [00:14<00:00,  4.33it/s, loss=0.0215]\n",
            "Epoch 184/200 - Validation: 100%|██████████| 32/32 [00:06<00:00,  4.86it/s, val_loss=0.0224]\n"
          ]
        },
        {
          "name": "stdout",
          "output_type": "stream",
          "text": [
            "Epoch 184/200 - Duration: 0.35 mins - Train Loss: 0.028, Train DICE: 0.587, Val Loss: 0.028, Val DICE: 0.596\n"
          ]
        },
        {
          "name": "stderr",
          "output_type": "stream",
          "text": [
            "Epoch 185/200 - Training: 100%|██████████| 63/63 [00:12<00:00,  5.10it/s, loss=0.0269]\n",
            "Epoch 185/200 - Validation: 100%|██████████| 32/32 [00:06<00:00,  5.04it/s, val_loss=0.0223]\n"
          ]
        },
        {
          "name": "stdout",
          "output_type": "stream",
          "text": [
            "Epoch 185/200 - Duration: 0.31 mins - Train Loss: 0.028, Train DICE: 0.585, Val Loss: 0.028, Val DICE: 0.597\n"
          ]
        },
        {
          "name": "stderr",
          "output_type": "stream",
          "text": [
            "Epoch 186/200 - Training: 100%|██████████| 63/63 [00:14<00:00,  4.26it/s, loss=0.0241]\n",
            "Epoch 186/200 - Validation: 100%|██████████| 32/32 [00:05<00:00,  6.29it/s, val_loss=0.0222]\n"
          ]
        },
        {
          "name": "stdout",
          "output_type": "stream",
          "text": [
            "Epoch 186/200 - Duration: 0.33 mins - Train Loss: 0.027, Train DICE: 0.588, Val Loss: 0.028, Val DICE: 0.596\n"
          ]
        },
        {
          "name": "stderr",
          "output_type": "stream",
          "text": [
            "Epoch 187/200 - Training: 100%|██████████| 63/63 [00:17<00:00,  3.57it/s, loss=0.0263]\n",
            "Epoch 187/200 - Validation: 100%|██████████| 32/32 [00:05<00:00,  6.05it/s, val_loss=0.022]\n"
          ]
        },
        {
          "name": "stdout",
          "output_type": "stream",
          "text": [
            "Epoch 187/200 - Duration: 0.38 mins - Train Loss: 0.027, Train DICE: 0.587, Val Loss: 0.028, Val DICE: 0.596\n"
          ]
        },
        {
          "name": "stderr",
          "output_type": "stream",
          "text": [
            "Epoch 188/200 - Training: 100%|██████████| 63/63 [00:15<00:00,  4.09it/s, loss=0.0289]\n",
            "Epoch 188/200 - Validation: 100%|██████████| 32/32 [00:06<00:00,  5.06it/s, val_loss=0.0223]\n"
          ]
        },
        {
          "name": "stdout",
          "output_type": "stream",
          "text": [
            "Epoch 188/200 - Duration: 0.36 mins - Train Loss: 0.027, Train DICE: 0.587, Val Loss: 0.028, Val DICE: 0.596\n"
          ]
        },
        {
          "name": "stderr",
          "output_type": "stream",
          "text": [
            "Epoch 189/200 - Training: 100%|██████████| 63/63 [00:12<00:00,  5.02it/s, loss=0.0289]\n",
            "Epoch 189/200 - Validation: 100%|██████████| 32/32 [00:06<00:00,  4.92it/s, val_loss=0.0229]\n"
          ]
        },
        {
          "name": "stdout",
          "output_type": "stream",
          "text": [
            "Epoch 189/200 - Duration: 0.32 mins - Train Loss: 0.027, Train DICE: 0.587, Val Loss: 0.029, Val DICE: 0.596\n"
          ]
        },
        {
          "name": "stderr",
          "output_type": "stream",
          "text": [
            "Epoch 190/200 - Training: 100%|██████████| 63/63 [00:14<00:00,  4.33it/s, loss=0.0285]\n",
            "Epoch 190/200 - Validation: 100%|██████████| 32/32 [00:04<00:00,  6.45it/s, val_loss=0.0219]\n"
          ]
        },
        {
          "name": "stdout",
          "output_type": "stream",
          "text": [
            "Epoch 190/200 - Duration: 0.33 mins - Train Loss: 0.027, Train DICE: 0.588, Val Loss: 0.028, Val DICE: 0.596\n"
          ]
        },
        {
          "name": "stderr",
          "output_type": "stream",
          "text": [
            "Epoch 191/200 - Training: 100%|██████████| 63/63 [00:15<00:00,  4.16it/s, loss=0.0281]\n",
            "Epoch 191/200 - Validation: 100%|██████████| 32/32 [00:04<00:00,  6.71it/s, val_loss=0.0223]\n"
          ]
        },
        {
          "name": "stdout",
          "output_type": "stream",
          "text": [
            "Epoch 191/200 - Duration: 0.33 mins - Train Loss: 0.027, Train DICE: 0.586, Val Loss: 0.028, Val DICE: 0.597\n"
          ]
        },
        {
          "name": "stderr",
          "output_type": "stream",
          "text": [
            "Epoch 192/200 - Training: 100%|██████████| 63/63 [00:15<00:00,  4.12it/s, loss=0.0267]\n",
            "Epoch 192/200 - Validation: 100%|██████████| 32/32 [00:04<00:00,  6.74it/s, val_loss=0.0225]\n"
          ]
        },
        {
          "name": "stdout",
          "output_type": "stream",
          "text": [
            "Epoch 192/200 - Duration: 0.33 mins - Train Loss: 0.028, Train DICE: 0.587, Val Loss: 0.028, Val DICE: 0.596\n"
          ]
        },
        {
          "name": "stderr",
          "output_type": "stream",
          "text": [
            "Epoch 193/200 - Training: 100%|██████████| 63/63 [00:15<00:00,  4.20it/s, loss=0.03]\n",
            "Epoch 193/200 - Validation: 100%|██████████| 32/32 [00:04<00:00,  6.78it/s, val_loss=0.0214]\n"
          ]
        },
        {
          "name": "stdout",
          "output_type": "stream",
          "text": [
            "Epoch 193/200 - Duration: 0.33 mins - Train Loss: 0.028, Train DICE: 0.586, Val Loss: 0.027, Val DICE: 0.598\n"
          ]
        },
        {
          "name": "stderr",
          "output_type": "stream",
          "text": [
            "Epoch 194/200 - Training: 100%|██████████| 63/63 [00:14<00:00,  4.35it/s, loss=0.0253]\n",
            "Epoch 194/200 - Validation: 100%|██████████| 32/32 [00:05<00:00,  6.25it/s, val_loss=0.0217]\n"
          ]
        },
        {
          "name": "stdout",
          "output_type": "stream",
          "text": [
            "Epoch 194/200 - Duration: 0.33 mins - Train Loss: 0.027, Train DICE: 0.588, Val Loss: 0.027, Val DICE: 0.598\n"
          ]
        },
        {
          "name": "stderr",
          "output_type": "stream",
          "text": [
            "Epoch 195/200 - Training: 100%|██████████| 63/63 [00:17<00:00,  3.61it/s, loss=0.0234]\n",
            "Epoch 195/200 - Validation: 100%|██████████| 32/32 [00:07<00:00,  4.41it/s, val_loss=0.0223]\n"
          ]
        },
        {
          "name": "stdout",
          "output_type": "stream",
          "text": [
            "Epoch 195/200 - Duration: 0.41 mins - Train Loss: 0.027, Train DICE: 0.588, Val Loss: 0.028, Val DICE: 0.596\n"
          ]
        },
        {
          "name": "stderr",
          "output_type": "stream",
          "text": [
            "Epoch 196/200 - Training: 100%|██████████| 63/63 [00:14<00:00,  4.29it/s, loss=0.0242]\n",
            "Epoch 196/200 - Validation: 100%|██████████| 32/32 [00:04<00:00,  6.43it/s, val_loss=0.0218]\n"
          ]
        },
        {
          "name": "stdout",
          "output_type": "stream",
          "text": [
            "Epoch 196/200 - Duration: 0.33 mins - Train Loss: 0.027, Train DICE: 0.587, Val Loss: 0.028, Val DICE: 0.596\n"
          ]
        },
        {
          "name": "stderr",
          "output_type": "stream",
          "text": [
            "Epoch 197/200 - Training: 100%|██████████| 63/63 [00:14<00:00,  4.40it/s, loss=0.0235]\n",
            "Epoch 197/200 - Validation: 100%|██████████| 32/32 [00:05<00:00,  6.23it/s, val_loss=0.022]\n"
          ]
        },
        {
          "name": "stdout",
          "output_type": "stream",
          "text": [
            "Epoch 197/200 - Duration: 0.32 mins - Train Loss: 0.027, Train DICE: 0.588, Val Loss: 0.027, Val DICE: 0.597\n"
          ]
        },
        {
          "name": "stderr",
          "output_type": "stream",
          "text": [
            "Epoch 198/200 - Training: 100%|██████████| 63/63 [00:15<00:00,  4.11it/s, loss=0.0417]\n",
            "Epoch 198/200 - Validation: 100%|██████████| 32/32 [00:04<00:00,  6.48it/s, val_loss=0.0213]\n"
          ]
        },
        {
          "name": "stdout",
          "output_type": "stream",
          "text": [
            "Epoch 198/200 - Duration: 0.34 mins - Train Loss: 0.027, Train DICE: 0.588, Val Loss: 0.027, Val DICE: 0.597\n"
          ]
        },
        {
          "name": "stderr",
          "output_type": "stream",
          "text": [
            "Epoch 199/200 - Training: 100%|██████████| 63/63 [00:15<00:00,  4.10it/s, loss=0.0256]\n",
            "Epoch 199/200 - Validation: 100%|██████████| 32/32 [00:05<00:00,  5.61it/s, val_loss=0.0217]\n"
          ]
        },
        {
          "name": "stdout",
          "output_type": "stream",
          "text": [
            "Epoch 199/200 - Duration: 0.35 mins - Train Loss: 0.027, Train DICE: 0.588, Val Loss: 0.027, Val DICE: 0.598\n"
          ]
        },
        {
          "name": "stderr",
          "output_type": "stream",
          "text": [
            "Epoch 200/200 - Training: 100%|██████████| 63/63 [00:14<00:00,  4.43it/s, loss=0.0323]\n",
            "Epoch 200/200 - Validation: 100%|██████████| 32/32 [00:06<00:00,  4.69it/s, val_loss=0.0218]"
          ]
        },
        {
          "name": "stdout",
          "output_type": "stream",
          "text": [
            "Epoch 200/200 - Duration: 0.35 mins - Train Loss: 0.028, Train DICE: 0.587, Val Loss: 0.027, Val DICE: 0.597\n"
          ]
        },
        {
          "name": "stderr",
          "output_type": "stream",
          "text": [
            "\n"
          ]
        }
      ],
      "source": [
        "for epoch in range(num_epochs):\n",
        "    epoch_start_time = time.time()\n",
        "    train_loss, train_dice_score, val_loss, val_dice_score = 0, 0, 0, 0\n",
        "    num_train_batches, num_val_batches = len(train_loader), len(val_loader)\n",
        "\n",
        "    voxelmorph.train()\n",
        "    train_loader_tqdm = tqdm(train_loader, desc=f'Epoch {epoch + 1}/{num_epochs} - Training')\n",
        "\n",
        "    for batch in train_loader_tqdm:\n",
        "        batch_fixed, batch_moving = batch['fixed_hand'].to(device), batch['moving_hand'].to(device)\n",
        "\n",
        "        optimizer.zero_grad()\n",
        "\n",
        "        registered_image, dff = voxelmorph(batch_moving, batch_fixed)\n",
        "\n",
        "        loss = criterion(batch_fixed, registered_image, dff)\n",
        "\n",
        "        loss.backward()\n",
        "        optimizer.step()\n",
        "\n",
        "        train_loss += loss.item()\n",
        "        train_dice_score += dice_score(batch_fixed, registered_image)\n",
        "\n",
        "        # Update progress bar\n",
        "        train_loader_tqdm.set_postfix(loss=loss.item())\n",
        "        train_loader_tqdm.update()\n",
        "\n",
        "    train_loss /= num_train_batches\n",
        "    train_dice_score /= num_train_batches\n",
        "\n",
        "    # Validation Phase\n",
        "    voxelmorph.eval()\n",
        "    val_loader_tqdm = tqdm(val_loader, desc=f'Epoch {epoch + 1}/{num_epochs} - Validation')\n",
        "    with torch.no_grad():\n",
        "\n",
        "        for batch in val_loader_tqdm:\n",
        "            batch_fixed, batch_moving = batch['fixed_hand'].to(device), batch['moving_hand'].to(device)\n",
        "\n",
        "            registered_image, dff = voxelmorph(batch_moving, batch_fixed)\n",
        "\n",
        "            loss = criterion(batch_fixed, registered_image, dff)\n",
        "\n",
        "            val_loss += loss.item()\n",
        "            val_dice_score += dice_score(batch_fixed, registered_image)\n",
        "\n",
        "            # Update progress bar\n",
        "            val_loader_tqdm.set_postfix(val_loss=val_loss / (val_loader_tqdm.n + 1))\n",
        "            val_loader_tqdm.update()\n",
        "\n",
        "    val_loss /= num_val_batches\n",
        "    val_dice_score /= num_val_batches\n",
        "\n",
        "    # Print epoch summary\n",
        "    epoch_duration = (time.time() - epoch_start_time) / 60\n",
        "    print(f\"Epoch {epoch + 1}/{num_epochs} - Duration: {epoch_duration:.2f} mins - Train Loss: {train_loss:.3f}, Train DICE: {train_dice_score:.3f}, Val Loss: {val_loss:.3f}, Val DICE: {val_dice_score:.3f}\")"
      ]
    },
    {
      "cell_type": "markdown",
      "id": "5cbb314d-1037-461c-a5c8-bd2fb4ce6650",
      "metadata": {
        "id": "5cbb314d-1037-461c-a5c8-bd2fb4ce6650"
      },
      "source": [
        "# Plot registered Images"
      ]
    },
    {
      "cell_type": "code",
      "execution_count": 13,
      "id": "TBbI7NEUFqOH",
      "metadata": {
        "colab": {
          "base_uri": "https://localhost:8080/",
          "height": 1000
        },
        "id": "TBbI7NEUFqOH",
        "outputId": "af6f0de1-49ce-47e0-f6a0-066e3c30a92d"
      },
      "outputs": [
        {
          "data": {
            "image/png": "[encoded data removed]",
            "text/plain": [
              "<Figure size 1500x5000 with 40 Axes>"
            ]
          },
          "metadata": {},
          "output_type": "display_data"
        }
      ],
      "source": [
        "def plot_samples(batch_fixed, batch_moving, registered_image, dff, k):\n",
        "    \"\"\"\n",
        "    Plot k samples from batch_fixed, batch_moving, registered_image, and deformation matrix in the validation set.\n",
        "    \"\"\"\n",
        "\n",
        "    fig, axs = plt.subplots(k, 4, figsize=(15, 5 * k))\n",
        "\n",
        "    for i in range(k):\n",
        "        # Plot fixed image\n",
        "        axs[i, 0].imshow(batch_fixed[i].cpu().detach().numpy().squeeze(), cmap='gray')\n",
        "        axs[i, 0].set_title(f'sample {i+1} - Fixed Image')\n",
        "        axs[i, 0].axis('off')\n",
        "\n",
        "        # Plot moving image\n",
        "        axs[i, 1].imshow(batch_moving[i].cpu().detach().numpy().squeeze(), cmap='gray')\n",
        "        axs[i, 1].set_title(f'sample {i+1} - Moving Image')\n",
        "        axs[i, 1].axis('off')\n",
        "\n",
        "        # Plot registered image\n",
        "        axs[i, 2].imshow(registered_image[i].cpu().detach().numpy().squeeze(), cmap='gray')\n",
        "        axs[i, 2].set_title(f'sample {i+1} - Registered Image')\n",
        "        axs[i, 2].axis('off')\n",
        "\n",
        "\n",
        "        displacement_magnitude = torch.norm(dff[i], dim=0).cpu().detach().numpy().squeeze()\n",
        "\n",
        "        # Display magnitude\n",
        "        axs[i, 3].imshow(displacement_magnitude, cmap='jet')\n",
        "        axs[i, 3].set_title(f'sample {i+1} - Wraped')\n",
        "        axs[i, 3].axis('off')\n",
        "\n",
        "batch = next(iter(val_loader))\n",
        "fixed, moving = batch['fixed_hand'].to(device), batch['moving_hand'].to(device)\n",
        "register, dffs = voxelmorph(batch_moving, batch_fixed)\n",
        "\n",
        "\n",
        "plot_samples(fixed, moving, register, dffs, k=10)"
      ]
    }
  ],
  "metadata": {
    "accelerator": "GPU",
    "colab": {
      "gpuType": "T4",
      "provenance": []
    },
    "kernelspec": {
      "display_name": "Python 3",
      "name": "python3"
    },
    "language_info": {
      "codemirror_mode": {
        "name": "ipython",
        "version": 3
      },
      "file_extension": ".py",
      "mimetype": "text/x-python",
      "name": "python",
      "nbconvert_exporter": "python",
      "pygments_lexer": "ipython3",
      "version": "3.8.10"
    }
  },
  "nbformat": 4,
  "nbformat_minor": 5
}
